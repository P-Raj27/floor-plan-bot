{
 "cells": [
  {
   "cell_type": "code",
   "execution_count": 24,
   "metadata": {},
   "outputs": [],
   "source": [
    "import os\n",
    "open_ai_models = {\n",
    "    1: \"gpt-4-1106-preview\",\n",
    "    2: \"gpt-4\",\n",
    "    3: \"gpt-4-32k\",\n",
    "    4: \"gpt-3.5-turbo-1106\",\n",
    "    5: \"gpt-3.5-turbo\",\n",
    "    6: \"gpt-3.5-turbo-16k\"\n",
    "}\n",
    "os.environ['OPENAI_API_KEY'] = 'OPEN_API_KEY'\n",
    "os.environ[\"model\"] = 'gpt-4-1106-preview'"
   ]
  },
  {
   "cell_type": "code",
   "execution_count": 2,
   "metadata": {},
   "outputs": [
    {
     "name": "stdout",
     "output_type": "stream",
     "text": [
      "Requirement already satisfied: amazon-textract-caller in /opt/homebrew/lib/python3.11/site-packages (0.2.1)\n",
      "Requirement already satisfied: boto3>=1.26.35 in /opt/homebrew/lib/python3.11/site-packages (from amazon-textract-caller) (1.34.11)\n",
      "Requirement already satisfied: botocore in /Users/pratikraj/Library/Python/3.11/lib/python/site-packages (from amazon-textract-caller) (1.34.11)\n",
      "Requirement already satisfied: amazon-textract-response-parser>=0.1.39 in /opt/homebrew/lib/python3.11/site-packages (from amazon-textract-caller) (1.0.1)\n",
      "Requirement already satisfied: marshmallow<4,>=3.14 in /opt/homebrew/lib/python3.11/site-packages (from amazon-textract-response-parser>=0.1.39->amazon-textract-caller) (3.20.1)\n",
      "Requirement already satisfied: jmespath<2.0.0,>=0.7.1 in /opt/homebrew/lib/python3.11/site-packages (from boto3>=1.26.35->amazon-textract-caller) (1.0.1)\n",
      "Requirement already satisfied: s3transfer<0.11.0,>=0.10.0 in /Users/pratikraj/Library/Python/3.11/lib/python/site-packages (from boto3>=1.26.35->amazon-textract-caller) (0.10.0)\n",
      "Requirement already satisfied: python-dateutil<3.0.0,>=2.1 in /Users/pratikraj/Library/Python/3.11/lib/python/site-packages (from botocore->amazon-textract-caller) (2.8.2)\n",
      "Requirement already satisfied: urllib3<2.1,>=1.25.4 in /opt/homebrew/lib/python3.11/site-packages (from botocore->amazon-textract-caller) (1.26.6)\n",
      "Requirement already satisfied: packaging>=17.0 in /opt/homebrew/lib/python3.11/site-packages (from marshmallow<4,>=3.14->amazon-textract-response-parser>=0.1.39->amazon-textract-caller) (23.2)\n",
      "Requirement already satisfied: six>=1.5 in /opt/homebrew/lib/python3.11/site-packages (from python-dateutil<3.0.0,>=2.1->botocore->amazon-textract-caller) (1.16.0)\n",
      "Requirement already satisfied: pypdf in /opt/homebrew/lib/python3.11/site-packages (3.17.0)\n",
      "Requirement already satisfied: Pillow in /opt/homebrew/lib/python3.11/site-packages (10.1.0)\n",
      "Requirement already satisfied: openai in /opt/homebrew/lib/python3.11/site-packages (1.8.0)\n",
      "Requirement already satisfied: anyio<5,>=3.5.0 in /opt/homebrew/lib/python3.11/site-packages (from openai) (3.7.1)\n",
      "Requirement already satisfied: distro<2,>=1.7.0 in /opt/homebrew/lib/python3.11/site-packages (from openai) (1.8.0)\n",
      "Requirement already satisfied: httpx<1,>=0.23.0 in /opt/homebrew/lib/python3.11/site-packages (from openai) (0.25.2)\n",
      "Requirement already satisfied: pydantic<3,>=1.9.0 in /opt/homebrew/lib/python3.11/site-packages (from openai) (1.10.13)\n",
      "Requirement already satisfied: sniffio in /opt/homebrew/lib/python3.11/site-packages (from openai) (1.3.0)\n",
      "Requirement already satisfied: tqdm>4 in /opt/homebrew/lib/python3.11/site-packages (from openai) (4.66.1)\n",
      "Requirement already satisfied: typing-extensions<5,>=4.7 in /opt/homebrew/lib/python3.11/site-packages (from openai) (4.8.0)\n",
      "Requirement already satisfied: idna>=2.8 in /opt/homebrew/lib/python3.11/site-packages (from anyio<5,>=3.5.0->openai) (3.4)\n",
      "Requirement already satisfied: certifi in /opt/homebrew/lib/python3.11/site-packages (from httpx<1,>=0.23.0->openai) (2023.7.22)\n",
      "Requirement already satisfied: httpcore==1.* in /opt/homebrew/lib/python3.11/site-packages (from httpx<1,>=0.23.0->openai) (1.0.2)\n",
      "Requirement already satisfied: h11<0.15,>=0.13 in /opt/homebrew/lib/python3.11/site-packages (from httpcore==1.*->httpx<1,>=0.23.0->openai) (0.14.0)\n",
      "Requirement already satisfied: chromadb in /opt/homebrew/lib/python3.11/site-packages (0.4.15)\n",
      "Requirement already satisfied: requests>=2.28 in /opt/homebrew/lib/python3.11/site-packages (from chromadb) (2.31.0)\n",
      "Requirement already satisfied: pydantic>=1.9 in /opt/homebrew/lib/python3.11/site-packages (from chromadb) (1.10.13)\n",
      "Requirement already satisfied: chroma-hnswlib==0.7.3 in /opt/homebrew/lib/python3.11/site-packages (from chromadb) (0.7.3)\n",
      "Requirement already satisfied: fastapi>=0.95.2 in /opt/homebrew/lib/python3.11/site-packages (from chromadb) (0.104.1)\n",
      "Requirement already satisfied: uvicorn>=0.18.3 in /opt/homebrew/lib/python3.11/site-packages (from uvicorn[standard]>=0.18.3->chromadb) (0.23.2)\n",
      "Requirement already satisfied: posthog>=2.4.0 in /opt/homebrew/lib/python3.11/site-packages (from chromadb) (3.0.2)\n",
      "Requirement already satisfied: typing-extensions>=4.5.0 in /opt/homebrew/lib/python3.11/site-packages (from chromadb) (4.8.0)\n",
      "Requirement already satisfied: pulsar-client>=3.1.0 in /opt/homebrew/lib/python3.11/site-packages (from chromadb) (3.3.0)\n",
      "Requirement already satisfied: onnxruntime>=1.14.1 in /opt/homebrew/lib/python3.11/site-packages (from chromadb) (1.15.1)\n",
      "Requirement already satisfied: opentelemetry-api>=1.2.0 in /opt/homebrew/lib/python3.11/site-packages (from chromadb) (1.20.0)\n",
      "Requirement already satisfied: opentelemetry-exporter-otlp-proto-grpc>=1.2.0 in /opt/homebrew/lib/python3.11/site-packages (from chromadb) (1.20.0)\n",
      "Requirement already satisfied: opentelemetry-sdk>=1.2.0 in /opt/homebrew/lib/python3.11/site-packages (from chromadb) (1.20.0)\n",
      "Requirement already satisfied: tokenizers>=0.13.2 in /opt/homebrew/lib/python3.11/site-packages (from chromadb) (0.14.1)\n",
      "Requirement already satisfied: pypika>=0.48.9 in /opt/homebrew/lib/python3.11/site-packages (from chromadb) (0.48.9)\n",
      "Requirement already satisfied: tqdm>=4.65.0 in /opt/homebrew/lib/python3.11/site-packages (from chromadb) (4.66.1)\n",
      "Requirement already satisfied: overrides>=7.3.1 in /opt/homebrew/lib/python3.11/site-packages (from chromadb) (7.4.0)\n",
      "Requirement already satisfied: importlib-resources in /opt/homebrew/lib/python3.11/site-packages (from chromadb) (6.1.0)\n",
      "Requirement already satisfied: grpcio>=1.58.0 in /opt/homebrew/lib/python3.11/site-packages (from chromadb) (1.59.3)\n",
      "Requirement already satisfied: bcrypt>=4.0.1 in /opt/homebrew/lib/python3.11/site-packages (from chromadb) (4.0.1)\n",
      "Requirement already satisfied: typer>=0.9.0 in /opt/homebrew/lib/python3.11/site-packages (from chromadb) (0.9.0)\n",
      "Requirement already satisfied: kubernetes>=28.1.0 in /opt/homebrew/lib/python3.11/site-packages (from chromadb) (28.1.0)\n",
      "Requirement already satisfied: tenacity>=8.2.3 in /opt/homebrew/lib/python3.11/site-packages (from chromadb) (8.2.3)\n",
      "Requirement already satisfied: numpy>=1.22.5 in /opt/homebrew/lib/python3.11/site-packages (from chromadb) (1.26.1)\n",
      "Requirement already satisfied: anyio<4.0.0,>=3.7.1 in /opt/homebrew/lib/python3.11/site-packages (from fastapi>=0.95.2->chromadb) (3.7.1)\n",
      "Requirement already satisfied: starlette<0.28.0,>=0.27.0 in /opt/homebrew/lib/python3.11/site-packages (from fastapi>=0.95.2->chromadb) (0.27.0)\n",
      "Requirement already satisfied: certifi>=14.05.14 in /opt/homebrew/lib/python3.11/site-packages (from kubernetes>=28.1.0->chromadb) (2023.7.22)\n",
      "Requirement already satisfied: six>=1.9.0 in /opt/homebrew/lib/python3.11/site-packages (from kubernetes>=28.1.0->chromadb) (1.16.0)\n",
      "Requirement already satisfied: python-dateutil>=2.5.3 in /Users/pratikraj/Library/Python/3.11/lib/python/site-packages (from kubernetes>=28.1.0->chromadb) (2.8.2)\n",
      "Requirement already satisfied: pyyaml>=5.4.1 in /opt/homebrew/lib/python3.11/site-packages (from kubernetes>=28.1.0->chromadb) (6.0.1)\n",
      "Requirement already satisfied: google-auth>=1.0.1 in /opt/homebrew/lib/python3.11/site-packages (from kubernetes>=28.1.0->chromadb) (2.23.3)\n",
      "Requirement already satisfied: websocket-client!=0.40.0,!=0.41.*,!=0.42.*,>=0.32.0 in /opt/homebrew/lib/python3.11/site-packages (from kubernetes>=28.1.0->chromadb) (1.6.4)\n",
      "Requirement already satisfied: requests-oauthlib in /opt/homebrew/lib/python3.11/site-packages (from kubernetes>=28.1.0->chromadb) (1.3.1)\n",
      "Requirement already satisfied: oauthlib>=3.2.2 in /opt/homebrew/lib/python3.11/site-packages (from kubernetes>=28.1.0->chromadb) (3.2.2)\n",
      "Requirement already satisfied: urllib3<2.0,>=1.24.2 in /opt/homebrew/lib/python3.11/site-packages (from kubernetes>=28.1.0->chromadb) (1.26.6)\n",
      "Requirement already satisfied: coloredlogs in /opt/homebrew/lib/python3.11/site-packages (from onnxruntime>=1.14.1->chromadb) (15.0.1)\n",
      "Requirement already satisfied: flatbuffers in /opt/homebrew/lib/python3.11/site-packages (from onnxruntime>=1.14.1->chromadb) (23.5.26)\n",
      "Requirement already satisfied: packaging in /opt/homebrew/lib/python3.11/site-packages (from onnxruntime>=1.14.1->chromadb) (23.2)\n",
      "Requirement already satisfied: protobuf in /opt/homebrew/lib/python3.11/site-packages (from onnxruntime>=1.14.1->chromadb) (4.24.4)\n",
      "Requirement already satisfied: sympy in /opt/homebrew/lib/python3.11/site-packages (from onnxruntime>=1.14.1->chromadb) (1.12)\n",
      "Requirement already satisfied: deprecated>=1.2.6 in /opt/homebrew/lib/python3.11/site-packages (from opentelemetry-api>=1.2.0->chromadb) (1.2.14)\n",
      "Requirement already satisfied: importlib-metadata<7.0,>=6.0 in /opt/homebrew/lib/python3.11/site-packages (from opentelemetry-api>=1.2.0->chromadb) (6.8.0)\n",
      "Requirement already satisfied: backoff<3.0.0,>=1.10.0 in /opt/homebrew/lib/python3.11/site-packages (from opentelemetry-exporter-otlp-proto-grpc>=1.2.0->chromadb) (2.2.1)\n",
      "Requirement already satisfied: googleapis-common-protos~=1.52 in /opt/homebrew/lib/python3.11/site-packages (from opentelemetry-exporter-otlp-proto-grpc>=1.2.0->chromadb) (1.61.0)\n",
      "Requirement already satisfied: opentelemetry-exporter-otlp-proto-common==1.20.0 in /opt/homebrew/lib/python3.11/site-packages (from opentelemetry-exporter-otlp-proto-grpc>=1.2.0->chromadb) (1.20.0)\n",
      "Requirement already satisfied: opentelemetry-proto==1.20.0 in /opt/homebrew/lib/python3.11/site-packages (from opentelemetry-exporter-otlp-proto-grpc>=1.2.0->chromadb) (1.20.0)\n",
      "Requirement already satisfied: opentelemetry-semantic-conventions==0.41b0 in /opt/homebrew/lib/python3.11/site-packages (from opentelemetry-sdk>=1.2.0->chromadb) (0.41b0)\n",
      "Requirement already satisfied: monotonic>=1.5 in /opt/homebrew/lib/python3.11/site-packages (from posthog>=2.4.0->chromadb) (1.6)\n",
      "Requirement already satisfied: charset-normalizer<4,>=2 in /opt/homebrew/lib/python3.11/site-packages (from requests>=2.28->chromadb) (3.3.1)\n",
      "Requirement already satisfied: idna<4,>=2.5 in /opt/homebrew/lib/python3.11/site-packages (from requests>=2.28->chromadb) (3.4)\n",
      "Requirement already satisfied: huggingface_hub<0.18,>=0.16.4 in /opt/homebrew/lib/python3.11/site-packages (from tokenizers>=0.13.2->chromadb) (0.17.3)\n",
      "Requirement already satisfied: click<9.0.0,>=7.1.1 in /opt/homebrew/lib/python3.11/site-packages (from typer>=0.9.0->chromadb) (8.1.7)\n",
      "Requirement already satisfied: h11>=0.8 in /opt/homebrew/lib/python3.11/site-packages (from uvicorn>=0.18.3->uvicorn[standard]>=0.18.3->chromadb) (0.14.0)\n",
      "Requirement already satisfied: httptools>=0.5.0 in /opt/homebrew/lib/python3.11/site-packages (from uvicorn[standard]>=0.18.3->chromadb) (0.6.1)\n",
      "Requirement already satisfied: python-dotenv>=0.13 in /opt/homebrew/lib/python3.11/site-packages (from uvicorn[standard]>=0.18.3->chromadb) (1.0.0)\n",
      "Requirement already satisfied: uvloop!=0.15.0,!=0.15.1,>=0.14.0 in /opt/homebrew/lib/python3.11/site-packages (from uvicorn[standard]>=0.18.3->chromadb) (0.19.0)\n",
      "Requirement already satisfied: watchfiles>=0.13 in /opt/homebrew/lib/python3.11/site-packages (from uvicorn[standard]>=0.18.3->chromadb) (0.21.0)\n",
      "Requirement already satisfied: websockets>=10.4 in /opt/homebrew/lib/python3.11/site-packages (from uvicorn[standard]>=0.18.3->chromadb) (12.0)\n",
      "Requirement already satisfied: sniffio>=1.1 in /opt/homebrew/lib/python3.11/site-packages (from anyio<4.0.0,>=3.7.1->fastapi>=0.95.2->chromadb) (1.3.0)\n",
      "Requirement already satisfied: wrapt<2,>=1.10 in /opt/homebrew/lib/python3.11/site-packages (from deprecated>=1.2.6->opentelemetry-api>=1.2.0->chromadb) (1.15.0)\n",
      "Requirement already satisfied: cachetools<6.0,>=2.0.0 in /opt/homebrew/lib/python3.11/site-packages (from google-auth>=1.0.1->kubernetes>=28.1.0->chromadb) (5.3.2)\n",
      "Requirement already satisfied: pyasn1-modules>=0.2.1 in /opt/homebrew/lib/python3.11/site-packages (from google-auth>=1.0.1->kubernetes>=28.1.0->chromadb) (0.3.0)\n",
      "Requirement already satisfied: rsa<5,>=3.1.4 in /Users/pratikraj/Library/Python/3.11/lib/python/site-packages (from google-auth>=1.0.1->kubernetes>=28.1.0->chromadb) (4.7.2)\n",
      "Requirement already satisfied: filelock in /opt/homebrew/lib/python3.11/site-packages (from huggingface_hub<0.18,>=0.16.4->tokenizers>=0.13.2->chromadb) (3.12.4)\n",
      "Requirement already satisfied: fsspec in /opt/homebrew/lib/python3.11/site-packages (from huggingface_hub<0.18,>=0.16.4->tokenizers>=0.13.2->chromadb) (2023.10.0)\n",
      "Requirement already satisfied: zipp>=0.5 in /opt/homebrew/lib/python3.11/site-packages (from importlib-metadata<7.0,>=6.0->opentelemetry-api>=1.2.0->chromadb) (3.17.0)\n",
      "Requirement already satisfied: humanfriendly>=9.1 in /opt/homebrew/lib/python3.11/site-packages (from coloredlogs->onnxruntime>=1.14.1->chromadb) (10.0)\n",
      "Requirement already satisfied: mpmath>=0.19 in /opt/homebrew/lib/python3.11/site-packages (from sympy->onnxruntime>=1.14.1->chromadb) (1.3.0)\n",
      "Requirement already satisfied: pyasn1<0.6.0,>=0.4.6 in /opt/homebrew/lib/python3.11/site-packages (from pyasn1-modules>=0.2.1->google-auth>=1.0.1->kubernetes>=28.1.0->chromadb) (0.5.0)\n",
      "Requirement already satisfied: tiktoken in /opt/homebrew/lib/python3.11/site-packages (0.5.2)\n",
      "Requirement already satisfied: regex>=2022.1.18 in /opt/homebrew/lib/python3.11/site-packages (from tiktoken) (2023.10.3)\n",
      "Requirement already satisfied: requests>=2.26.0 in /opt/homebrew/lib/python3.11/site-packages (from tiktoken) (2.31.0)\n",
      "Requirement already satisfied: charset-normalizer<4,>=2 in /opt/homebrew/lib/python3.11/site-packages (from requests>=2.26.0->tiktoken) (3.3.1)\n",
      "Requirement already satisfied: idna<4,>=2.5 in /opt/homebrew/lib/python3.11/site-packages (from requests>=2.26.0->tiktoken) (3.4)\n",
      "Requirement already satisfied: urllib3<3,>=1.21.1 in /opt/homebrew/lib/python3.11/site-packages (from requests>=2.26.0->tiktoken) (1.26.6)\n",
      "Requirement already satisfied: certifi>=2017.4.17 in /opt/homebrew/lib/python3.11/site-packages (from requests>=2.26.0->tiktoken) (2023.7.22)\n",
      "Requirement already satisfied: pdf2image in /opt/homebrew/lib/python3.11/site-packages (1.16.3)\n",
      "Requirement already satisfied: pillow in /opt/homebrew/lib/python3.11/site-packages (from pdf2image) (10.1.0)\n",
      "Requirement already satisfied: langchain in /opt/homebrew/lib/python3.11/site-packages (0.0.340)\n",
      "Requirement already satisfied: PyYAML>=5.3 in /opt/homebrew/lib/python3.11/site-packages (from langchain) (6.0.1)\n",
      "Requirement already satisfied: SQLAlchemy<3,>=1.4 in /opt/homebrew/lib/python3.11/site-packages (from langchain) (2.0.22)\n",
      "Requirement already satisfied: aiohttp<4.0.0,>=3.8.3 in /opt/homebrew/lib/python3.11/site-packages (from langchain) (3.8.6)\n",
      "Requirement already satisfied: anyio<4.0 in /opt/homebrew/lib/python3.11/site-packages (from langchain) (3.7.1)\n",
      "Requirement already satisfied: dataclasses-json<0.7,>=0.5.7 in /opt/homebrew/lib/python3.11/site-packages (from langchain) (0.6.1)\n",
      "Requirement already satisfied: jsonpatch<2.0,>=1.33 in /opt/homebrew/lib/python3.11/site-packages (from langchain) (1.33)\n",
      "Requirement already satisfied: langsmith<0.1.0,>=0.0.63 in /opt/homebrew/lib/python3.11/site-packages (from langchain) (0.0.77)\n",
      "Requirement already satisfied: numpy<2,>=1 in /opt/homebrew/lib/python3.11/site-packages (from langchain) (1.26.1)\n",
      "Requirement already satisfied: pydantic<3,>=1 in /opt/homebrew/lib/python3.11/site-packages (from langchain) (1.10.13)\n",
      "Requirement already satisfied: requests<3,>=2 in /opt/homebrew/lib/python3.11/site-packages (from langchain) (2.31.0)\n",
      "Requirement already satisfied: tenacity<9.0.0,>=8.1.0 in /opt/homebrew/lib/python3.11/site-packages (from langchain) (8.2.3)\n",
      "Requirement already satisfied: attrs>=17.3.0 in /opt/homebrew/lib/python3.11/site-packages (from aiohttp<4.0.0,>=3.8.3->langchain) (23.1.0)\n",
      "Requirement already satisfied: charset-normalizer<4.0,>=2.0 in /opt/homebrew/lib/python3.11/site-packages (from aiohttp<4.0.0,>=3.8.3->langchain) (3.3.1)\n",
      "Requirement already satisfied: multidict<7.0,>=4.5 in /opt/homebrew/lib/python3.11/site-packages (from aiohttp<4.0.0,>=3.8.3->langchain) (6.0.4)\n",
      "Requirement already satisfied: async-timeout<5.0,>=4.0.0a3 in /opt/homebrew/lib/python3.11/site-packages (from aiohttp<4.0.0,>=3.8.3->langchain) (4.0.3)\n",
      "Requirement already satisfied: yarl<2.0,>=1.0 in /opt/homebrew/lib/python3.11/site-packages (from aiohttp<4.0.0,>=3.8.3->langchain) (1.9.2)\n",
      "Requirement already satisfied: frozenlist>=1.1.1 in /opt/homebrew/lib/python3.11/site-packages (from aiohttp<4.0.0,>=3.8.3->langchain) (1.4.0)\n",
      "Requirement already satisfied: aiosignal>=1.1.2 in /opt/homebrew/lib/python3.11/site-packages (from aiohttp<4.0.0,>=3.8.3->langchain) (1.3.1)\n",
      "Requirement already satisfied: idna>=2.8 in /opt/homebrew/lib/python3.11/site-packages (from anyio<4.0->langchain) (3.4)\n",
      "Requirement already satisfied: sniffio>=1.1 in /opt/homebrew/lib/python3.11/site-packages (from anyio<4.0->langchain) (1.3.0)\n",
      "Requirement already satisfied: marshmallow<4.0.0,>=3.18.0 in /opt/homebrew/lib/python3.11/site-packages (from dataclasses-json<0.7,>=0.5.7->langchain) (3.20.1)\n",
      "Requirement already satisfied: typing-inspect<1,>=0.4.0 in /opt/homebrew/lib/python3.11/site-packages (from dataclasses-json<0.7,>=0.5.7->langchain) (0.9.0)\n",
      "Requirement already satisfied: jsonpointer>=1.9 in /opt/homebrew/lib/python3.11/site-packages (from jsonpatch<2.0,>=1.33->langchain) (2.4)\n",
      "Requirement already satisfied: typing-extensions>=4.2.0 in /opt/homebrew/lib/python3.11/site-packages (from pydantic<3,>=1->langchain) (4.8.0)\n",
      "Requirement already satisfied: urllib3<3,>=1.21.1 in /opt/homebrew/lib/python3.11/site-packages (from requests<3,>=2->langchain) (1.26.6)\n",
      "Requirement already satisfied: certifi>=2017.4.17 in /opt/homebrew/lib/python3.11/site-packages (from requests<3,>=2->langchain) (2023.7.22)\n",
      "Requirement already satisfied: packaging>=17.0 in /opt/homebrew/lib/python3.11/site-packages (from marshmallow<4.0.0,>=3.18.0->dataclasses-json<0.7,>=0.5.7->langchain) (23.2)\n",
      "Requirement already satisfied: mypy-extensions>=0.3.0 in /opt/homebrew/lib/python3.11/site-packages (from typing-inspect<1,>=0.4.0->dataclasses-json<0.7,>=0.5.7->langchain) (1.0.0)\n"
     ]
    }
   ],
   "source": [
    "!pip install amazon-textract-caller\n",
    "!pip install pypdf Pillow\n",
    "!pip install openai\n",
    "!pip install chromadb\n",
    "!pip install tiktoken\n",
    "!pip install pdf2image\n",
    "!pip install langchain"
   ]
  },
  {
   "cell_type": "markdown",
   "metadata": {},
   "source": [
    "# If you closely look into the Pages of the Floor Plan PDF,you see each page has some textual information and the image of the floor plan of the particular Flat unit.\n",
    "# So the problem of directly parsing pdf data using PyPdf is that it will omit the floor plan image data all together."
   ]
  },
  {
   "cell_type": "markdown",
   "metadata": {},
   "source": [
    "# So to avoid this data omission ,we will use a work around,in which we first convert each page of PDF to an Image using pdf2image library and store in a directory.\n",
    "# Once all the pages are converted to images we can use Text-Extraction Techniques like OCR to extract data from each of the image.\n",
    "# There are number of tools for Text-Extraction from the image such as Amazon Textractor,UnstructuredImageLoader etc.\n"
   ]
  },
  {
   "cell_type": "code",
   "execution_count": 3,
   "metadata": {},
   "outputs": [
    {
     "name": "stdout",
     "output_type": "stream",
     "text": [
      "13\n"
     ]
    }
   ],
   "source": [
    "#Convert PDF Pages to Images\n",
    "from pdf2image import convert_from_path\n",
    "def pdf_to_image(file_path,image_dir):\n",
    "        os.makedirs(image_dir, exist_ok=True)\n",
    "        images = convert_from_path(file_path, fmt='jpg', output_folder=image_dir,output_file=\"page\")\n",
    "        print(len(images))\n",
    "\n",
    "pdf_to_image(\"./floor-plans.pdf\",\"floor-plan-images\")"
   ]
  },
  {
   "cell_type": "markdown",
   "metadata": {},
   "source": []
  },
  {
   "cell_type": "code",
   "execution_count": 4,
   "metadata": {},
   "outputs": [
    {
     "name": "stdout",
     "output_type": "stream",
     "text": [
      "13\n"
     ]
    }
   ],
   "source": [
    "import glob\n",
    "def fetch_pages(image_dir):\n",
    "        '''This Function will iterate through all the images and store the path of each image.'''\n",
    "\n",
    "        image_files_path = glob.glob(f'{image_dir}/*.jpg')\n",
    "\n",
    "        return image_files_path\n",
    "\n",
    "image_files_path = fetch_pages('./floor-plan-images')\n",
    "print(len(image_files_path))"
   ]
  },
  {
   "cell_type": "markdown",
   "metadata": {},
   "source": [
    "# Since we will be using Langchain for creating a Document querying bot ,and out of the box langchain supports two ways of Text Extraction for now.\n",
    "# 1. Amazon Textractor.\n",
    "# 2. UnstructuredImageLoader\n",
    "# We can use any of the above tools to extract the data.\n",
    "# Below I will be showing both the ways,and we can later on decide to use any."
   ]
  },
  {
   "cell_type": "code",
   "execution_count": 5,
   "metadata": {},
   "outputs": [],
   "source": [
    "import boto3\n",
    "session = boto3.Session(\n",
    "    aws_access_key_id='Access_Key_Id',\n",
    "    aws_secret_access_key='Secret_Access_Key'\n",
    ")"
   ]
  },
  {
   "cell_type": "code",
   "execution_count": 6,
   "metadata": {},
   "outputs": [
    {
     "name": "stdout",
     "output_type": "stream",
     "text": [
      "13\n"
     ]
    },
    {
     "data": {
      "text/plain": [
       "[Document(page_content=\"DAR AL KARAMA REAL ESTATE\\nDAK\\n2015\\nSAPPHIRE 32\\nBEDROOM\\n3.80 X 3,90\\n01 BEDROOM\\nLEVEL 3 9.21\\nUNIT X06\\nBATHROOM\\n1.90 X 1.90\\n64.32 SQ.M.\\n692 SQ.FT.\\nSUITE AREA\\nBALCONY AREA\\n8,08 SQ.M.\\n87 SQ.FT.\\nTOTAL AREA\\n72.40 SQ.M\\n779 SQ.FT.\\nBALCONY\\nKITCHEN\\n3.85 X 1.95\\n2.70 X 3.68\\nKEY SECTION\\nKEY PLAN\\nKILL\\nLIVING ROOM\\n5.55 X 3,70\\nTOILET\\n1.80 X 1.30\\nSUBJECT\\nTO\\nCHANGE\\nWITHOUT\\nNOTICE,\\nA DISCLAIMER: LL ARE IN IMPERIA I AND METRIC, AND MEASURED FROM F INISH TO STATED F INISH AREA. EXCLUDING 5. DRAWINGS CONSTRUCTION NOT TO SCA TOLERANCES. LE. 6. ALL IMAGES 2 ALL ANY USED MATERIA LIABILITY ARE FOR LS. WHATSOEVER DIMENSIONS, ILLUSTRATIVE AND PURPOSES DRAWINGS ONLY ARE AND APPROXIMATE DO NOT REPRESENT ONLY 3. THE INFORMATION ACTUA L SIZE, IS FEATURES SPECIF ICATIONS, F\\nITTINGS,\\nAT\\nDEVELOPER'S DIMENSIONS FURNISHINGS. ABSOLUTE 7. THE DEVELOPER DISCRETION. RESERVES 4. ACTUA THE L AREA RIGHT MAY TO VAR MAKE Y FROM REVISIONS THE / ALTERATIONS, AT IT'S ABSOLUTE DISCRETION, WITHOUT\\nAND\", metadata={'source': './floor-plan-images/page0001-08.jpg', 'page': 1}),\n",
       " Document(page_content=\"DAR AL KARAMA REAL ESTATE\\nSAPPHIRE 32\\nDAK\\nsheel Hghill colls jla\\nSTUDIO\\nLEVEL 3. 9 21\\nUNIT X07\\nBATHROOM\\nSUITE AREA\\n31.27 SQ.M.\\n337 SQ.FT.\\n2.20 X 1.80\\nBALCONY AREA\\n5.08 SQ.M.\\n55 SQ.FT.\\nTOTAL AREA\\n36.35 SQ.M.\\n391 SQ.FT.\\nKEY PLAN\\nKEY SECTION\\nBALCONY\\nBEDROOM\\nKITCHEN\\n3.18 X 1.48\\n4.65 X 3.70\\n3.50 X 1.80\\nDISCLAIMER\\nA LL DIMENSIONS ARE IN IMPERIA L AND METRIC. AND MEASURED FROM F INISH TO F INISH EXCLUDING CONSTRUCTION TOLERANCES. 2. A LL MATERIA LS, DIMENSIONS, AND DRAWINGS ARE APPROXIMATE ONLY. 3. INFORMATION IS SUBJECT TO CHANGE WITHOUT NOTICE\\nAT DEVELOPER'S ABSOLUTE DISCRETION. 4. ACTUA L AREA MAY VAR Y FROM THE STATED AREA. 5. DRAWINGS NOT TO SCA LE. 6.A LL IMAGES USED ARE FOR ILLUSTRATIVE PURPOSES ONLY AND DO NOT REPRESENT THE ACTUA L SIZE, FEATURES, SPECIF ICATIONS, F ITTINGS.\\nAND FURNISHINGS. 7. THE DEVELOPER RESERVES THE RIGHT TO MAKE REVISIONS / ALTERATIONS, AT ITS ABSOLUTE DISCRETION, WITHOUT ANY LIABILITY WHATSOEVER.\", metadata={'source': './floor-plan-images/page0001-09.jpg', 'page': 1}),\n",
       " Document(page_content='SAPPHIRE32\\nDAY\\nDAR AL KARAMA REAL ESTATE\\nSJ\\nLoe\\nJ-9\\njl>', metadata={'source': './floor-plan-images/page0001-01.jpg', 'page': 1}),\n",
       " Document(page_content=\"SAPPHiRE\\nDAK\\nDAR AL KARAMA REAL ESTATE\\ncolls\\n05\\n04\\n1 BEDROOM\\nSTUDIO\\n03\\n1 BEDROOM\\n06\\n1 BEDROOM\\n02\\nX\\n1 BEDROOM\\n07\\nSTUDIO\\n01\\n1 BEDROOM\\n08\\nSTUDIO\\n09\\n2 BEDROOM\\n10\\n10\\n1 BEDROOM\\nO\\nFLOOR LEVEL 3, 9 21,\\nDISCLAIMER:\\nA LL DIMENSIONS ARE IN IMPERIA L AND METRIC. AND MEASURED FROM F INISH TO F INISH EXCLUDING CONSTRUCTION TOLERANCES 2. A LL MATERIA LS. DIMENSIONS AND DRAWINGS ARE APPROXIMATE ONLY. 3. INFORMATION IS SUBJECT TO CHANGE WITHOUT NOTICE\\nAT DEVELOPER'S ABSOLUTE DISCRETION. 4. ACTUA L AREA MAY VAR Y FROM THE STATED AREA. 5. DRAWINGS NOT TO SCA LE. 6. A LL IMAGES USED ARE FOR ILLUSTRATIVE PURPOSES ONLY AND DO NOT REPRESENT THE ACTUA I SIZE FEATURES SPECIF ICATIONS\\nF\\nITTINGS\\nAND FURNISHINGS 7. THE DEVELOPER RESERVES THE RIGHT TO MAKE REVISIONS / ALTERATIONS, AT IT'S ABSOLUTE DISCRETION, WITHOUT ANY LIABILITY WHATSOEVER\", metadata={'source': './floor-plan-images/page0001-02.jpg', 'page': 1}),\n",
       " Document(page_content=\"DAR AL KARAMA REAL ESTATE\\nSAPPHIRE 32\\nDAK\\nsheel\\njla\\nBATHROOM\\n2.10 X 1.65\\n01 BEDROOM\\nLEVEL 3 9.21\\nUNIT X01\\nLIVING ROOM\\n4.05X 3.40\\nSUITE AREA\\nBEDROOM\\n38.61 SQ.M.\\n416 SQ.FT.\\n3.40 X 3,30\\nBALCONY AREA\\n36.07 SQ.M.\\n388 SQ.FT.\\nTOTAL AREA\\n74.68 SQ.M.\\n804 SQ.FT.\\nBALCONY\\nKEY PLAN\\nKEY SECTION\\n33 SQ.M\\nDISCLAIMER\\nA LL DIMENSIONS ARE IN IMPERIA L AND METRIC AND MEASURED FROM F INISH TO F INISH EXCLUDING CONSTRUCTION TOLERANCES 2 A II MATERIA IS DIMENSIONS AND DRAWINGS ARE APPROXIMATE ONLY. 3. INFORMATION IS\\nSUBJECT\\nTO\\nCHANGE\\nWITHOUT\\nNOTICE\\nAT DEVELOPER'S ABSOLUTE DISCRETION. 4. ACTUA L AREA MAY VAR Y FROM THE STATED AREA. 5. DRAWINGS NOT TO SCA LE. 6. A LL IMAGES USED ARE FOR ILLUSTRATIVE PURPOSES ONLY AND DO NOT REPRESENT THE ACTUA L SIZE, FEATURES SPECIF ICATIONS F ITTINGS\\nAND FURNISHINGS 7. THE DEVELOPER RESERVES THE RIGHT TO MAKE REVISIONS / ALTERATIONS. AT IT'S ABSOLUTE DISCRETION WITHOUT ANY LIABILITY WHATSOEVER\", metadata={'source': './floor-plan-images/page0001-03.jpg', 'page': 1}),\n",
       " Document(page_content=\"DAR AL KARAMA REAL ESTATE\\nSAPPHIRE 32\\nDAK\\nBALCONY\\n6.49 X 1.60\\n01 BEDROOM\\nLIVINGROOM\\nBEDROOM\\nLEVEL 3 9,21\\nUNIT X05\\n4.55 X 3.80\\n3.85 X 3.60\\nSUITE AREA\\n58.21 SQ.M.\\n627 SQ.FT.\\nBALCONY AREA\\n10.76 SQ.M.\\n116 SQ.FT.\\nTOTAL AREA\\n68,97 SQ.M.\\n742 SQ.FT.\\nKEY PLAN\\nKEY SECTION\\n27\\nBATHROOM\\n25\\n2.10 X 1.90\\nKITCHEN\\n3.15 X 1.80\\nTOILET\\n1.60 X 1.30\\nDISCLAIMER\\nA LL DIMENSIONS ARE IN IMPERIA I AND METRIC. AND MEASURED FROM F INISH TO F INISH EXCLUDING CONSTRUCTION TOLERANCES. 2 A LL MATERIA LS, DIMENSIONS AND DRAWINGS ARE APPROXIMATE ONLY. 3. INFORMATION\\nIS\\nSUBJECT\\nTO\\nCHANGE\\nWITHOUT\\nNOTICE\\nAT DEVELOPER'S ABSOLUTE DISCRETION. 4. ACTUA L AREA MAY VAR Y FROM THE STATED AREA. 5. DRAWINGS NOT TO SCA LE 6. A LL IMAGES USED ARE FOR ILLUSTRATIVE PURPOSES ONLY AND DO NOT REPRESENT THE ACTUA L SIZE FEATURES.\\nSPECIF\\nICATIONS.\\nF\\nITTINGS.\\nAND FURNISHINGS. 7. THE DEVELOPER RESERVES THE RIGHT TO MAKE REVISIONS / ALTERATIONS. AT IT'S ABSOLUTE DISCRETION, WITHOUT ANY LIABILITY WHATSOEVER\", metadata={'source': './floor-plan-images/page0001-07.jpg', 'page': 1}),\n",
       " Document(page_content='SAPPHIRE32\\nDAY\\nDAR AL KARAMA REAL ESTATE\\nSJ\\nLoe\\nJ-9\\njl>', metadata={'source': './floor-plan-images/page0001-13.jpg', 'page': 1}),\n",
       " Document(page_content=\"DAR AL KARAMA REAL ESTATE\\nSAPPHIRE\\n32\\nDAK\\nTOILET\\n1.95 X 1.40\\nKITCHEN\\n01 BEDROOM\\n4.10 X 2.40\\nLEVEL 3 9,21\\nUNIT X10\\nBALCONY\\n6.10 X 1.75\\nSUITE AREA\\n62.94 SQ.M.\\n677 SQ.FT.\\nBALCONY AREA\\n17,67 SQ.M.\\n190 SQ.FT.\\nTOTAL AREA\\n80.61 SQ.M.\\n868 SQ.FT.\\nBATHROOM\\n2.50 X 1.60\\nKEY PLAN\\nKEY SECTION\\nLIVINGROOM\\n5.40 X 3.52\\nBEDROOM\\n4.38 X 3.40\\nBALCONY\\n3.15 X 1.75\\nJill\\nO:--\\nDISCLAIMER\\nA LL DIMENSIONS ARE IN IMPERIA L AND METRIC. AND MEASURED FROM F INISH TO F INISH EXCLUDING CONSTRUCTION TOLERANCES. 2 A LL MATERIA LS. DIMENSIONS. AND DRAWINGS ARE APPROXIMATE ONLY 3. INFORMATION IS SUBJECT TO CHANGE WITHOUT NOTICE\\nAT DEVELOPER'S ABSOLUTE DISCRETION 4. ACTUA L AREA MAY VAR Y FROM THE STATED AREA. 5. DRAWINGS NOT TO SCA LE. 6. A LL IMAGES USED ARE FOR ILLUSTRATIVE PURPOSES ONLY AND DO NOT REPRESENT THE ACTUA L SIZE FEATURES.\\nSPECIF\\nICATIONS.\\nF\\nITTINGS\\nAND FURNISHINGS. 7. THE DEVELOPER RESERVES THE RIGHT TO MAKE REVISIONS / ALTERATIONS. AT IT'S ABSOLUTE DISCRETION. WITHOUT ANY LIABILITY WHATSOEVER\", metadata={'source': './floor-plan-images/page0001-12.jpg', 'page': 1}),\n",
       " Document(page_content=\"DAR AL KARAMA REAL ESTATE\\nSAPPHIRE 32\\nDAK\\nshall High 2015 jla\\nBALCONY\\n3.50 X 1.60\\nSTUDIO\\nBEDROOM\\nLEVEL 3 9.21\\nUNIT X04\\n4.60 X 3.60\\nSUITE AREA\\n31.12 SQ.M.\\n335 SQ.FT.\\nBALCONY AREA\\n5,85 SQ.M.\\n63 SQ.FT\\nTOTAL AREA\\n36,97 SQ.M.\\n398 SQ.FT.\\nKEY PLAN\\nKEY SECTION\\nBATHROOM\\nKITCHEN\\n2.20 X 1.70\\n3.50 X 1.80\\nDISCLAIMER\\nA\\nIL DIMENSIONS ARE IN IMPERIA I. AND METRIC. AND MEASURED FROM F INISH TO F INISH EXCLUDING CONSTRUCTION TOLERANCES 2 A IL MATERIA IS DIMENSIONS AND DRAWINGS AND APPROXIMATE ONLY 3. INFORMATION IS SUBJECT TO CHANGE WITHOUT NOTICE\\nAT DEVELOPER'S ABSOLUTE DISCRETION. 4. ACTUA L AREA MAY VAR Y FROM THE STATED AREA. 5. DRAWINGS NOT TO SCA LE. 6. A LL IMAGES USED ARE FOR ILLUSTRATIVE PURPOSES ONLY AND DO NOT REPRESENT THE ACTUA L SIZE, FEATURES. SPECIF ICATIONS. F ITTINGS.\\nAND FURNISHINGS 7. THE DEVELOPER RESERVES THE RIGHT TO MAKE REVISIONS / ALTERATIONS. AT IT'S ABSOLUTE DISCRETION. WITHOUT ANY LIABILITY WHATSOEVER\", metadata={'source': './floor-plan-images/page0001-06.jpg', 'page': 1}),\n",
       " Document(page_content=\"DAR AL KARAMA REAL ESTATE\\nSAPPHIRE 32\\nDAK\\nSTUDIO\\nLEVEL 3 9,21\\nUNIT X08\\nBALCONY\\nBEDROOM\\nKITCHEN\\n3.18 X 1.48\\n4.65 X 3.80\\n3.50 X 1.80\\nSUITE AREA\\n31.13 SQ.M.\\n335 SQ.FT.\\nBALCONY AREA\\n5,09 SQ.M.\\n55 SQ.FT.\\nTOTAL AREA\\n36.22 SQ.M.\\n390 SQ.FT.\\nBATHROOM\\n2.20 X 1.90\\nKEY PLAN\\nKEY SECTION\\nDISCLAIMER\\nA LL DIMENSIONS ARE IN IMPERIA L AND METRIC. AND MEASURED FROM F INISH TO F INISH EXCLUDING CONSTRUCTION TOLERANCES. 2 A LL MATERIA LS. DIMENSIONS, AND DRAWINGS ARE APPROXIMATE ONLY. 3. INFORMATION IS SUBJECT FEATURES TO SPECIF CHANGE ICATIONS. WITHOUT F ITTINGS. NOTICE\\nAT DEVELOPER'S ABSOLUTE DISCRETION. 4. ACTUA L AREA MAY VAR Y FROM THE STATED AREA. 5. DRAWINGS NOT TO SCA LE. 6 A LL IMAGES USED ARE FOR ILLUSTRATIVE PURPOSES ONLY AND DO NOT REPRESENT THE ACTUA L SIZE,\\nAND FURNISHINGS. 7. THE DEVELOPER RESERVES THE RIGHT TO MAKE REVISIONS / ALTERATIONS. AT IT'S ABSOLUTE DISCRETION, WITHOUT ANY LIABILITY WHATSOEVER\", metadata={'source': './floor-plan-images/page0001-10.jpg', 'page': 1}),\n",
       " Document(page_content=\"DAR AL KARAMA REAL ESTATE\\nSAPPHIRE\\n32\\nDAK\\ndolls\\nBALCONY\\n3,09 X 1.79\\n01 BEDROOM\\nTOILET\\nLIVING ROOM\\n1.90 X 1.30\\n5.40 X 3.87\\nLEVEL 3 9. 21\\nUNIT X02\\nSUITE AREA\\n64.17 SQ.M.\\n691 SQ.FT.\\nBALCONY AREA\\n17,73 SQ.M.\\n191 SQ.FT\\nKITCHEN\\nTOTAL AREA\\n81.90 SQ.M.\\n882 SQ.FT.\\n4.10 X 2.40\\nKEY PLAN\\nKEY SECTION\\nBEDROOM\\nO\\n4.38 X 3,40\\nBATHROOM\\n2.50 X 1.60\\nBALCONY\\n6.10 X 1.75\\nDISCLAIMER:\\nARE IN IMPERIA L AND METRIC AND MEASURED FROM F INISH TO F INISH EXCLUDING CONSTRUCTION TOLERANCES 2 A LL MATERIA LS. DIMENSIONS, AND DRAWINGS ARE APPROXIMATE ONLY. 3. INFORMATION ACTUA I IS SUBJECT FEATURES TO SPECIF CHANGE ICATIONS, WITHOUT F ITTINGS. NOTICE\\nA AT LL DEVELOPER'S DIMENSIONS ABSOLUTE DISCRETION 4. ACTUA L AREA MAY VAR Y FROM THE STATED AREA 5. DRAWINGS NOT TO SCA LE 6. A LL IMAGES USED ARE FOR ILLUSTRATIVE PURPOSES ONLY AND DO NOT REPRESENT THE SIZE,\\nAND FURNISHINGS. 7. THE DEVELOPER RESERVES THE RIGHT TO MAKE REVISIONS / ALTERATIONS. AT IT'S ABSOLUTE DISCRETION, WITHOUT ANY LIABILITY WHATSOEVER\", metadata={'source': './floor-plan-images/page0001-04.jpg', 'page': 1}),\n",
       " Document(page_content=\"DAR AL KARAMA REAL ESTATE\\nDAK\\ncolls\\nSAPPHIRE\\n32\\nBALCONY\\n6.1OX 1.67\\nKITCHEN\\nBATHROOM\\nBEDROOM\\n01 BEDROOM\\n2.50 X 1.60\\n4.38 X 3.40\\n4.10 X 2,40\\nLEVEL 3 9,21\\nUNIT X03\\nO\\nSUITE AREA\\n63.55 SQ.M.\\n684 SQ.FT.\\nBALCONY AREA\\n17.34 SQ.M.\\n187 SQ.FT.\\nTOTAL AREA\\n80.89 SQ.M.\\n871 SQ.FT.\\nKEY PLAN\\nKEY SECTION\\nN\\nan\\nTOILET\\nLIVINGROOM\\nBALCONY\\n1.90 X 1.30\\n5.40 X 3.52\\n3.09 X 1.79\\n-10\\nIS\\nSUBJECT\\nTO\\nCHANGE\\nWITHOUT\\nNOTICE,\\nDISCLAIMER: L AND METRIC, AND MEASURED FROM F INISH TO F INISH EXCLUDING CONSTRUCTION TOLERANCES. 2 A LL USED MATERIA ARE FOR LS. DIMENSIONS, ILLUSTRATIVE AND PURPOSES DRAWINGS ONLY ARE AND APPROXIMATE DO NOT REPRESENT ONLY. 3. THE INFORMATION ACTUA L SIZE, FEATURES, SPECIF\\nICATIONS,\\nF\\nITTINGS,\\nA LL DIMENSIONS ARE IN IMPERIA DISCRETION. 4. ACTUA L AREA MAY VAR Y FROM THE STATED AREA. 5. DRAWINGS NOT TO SCA LE. 6. A WITHOUT LL IMAGES ANY LIABILITY WHATSOEVER.\\nAT DEVELOPER'S FURNISHINGS. ABSOLUTE 7. THE DEVELOPER RESERVES THE RIGHT TO MAKE REVISIONS / ALTERATIONS, AT IT'S ABSOLUTE DISCRETION,\\nAND\", metadata={'source': './floor-plan-images/page0001-05.jpg', 'page': 1}),\n",
       " Document(page_content=\"DAR AL KARAMA REAL ESTATE\\nSAPPHIRE 32\\nDAK\\nBATHROOM\\n2.20 X 1.70\\nTOILET\\n02 BEDROOM\\nBEDROOM\\n1.90 X 1.30\\n4.65 X 3.65\\nLEVEL 3. 9 21\\nUNIT X09\\nBATHROOM\\nSUITE AREA\\n95,73 SQ.M.\\n1030 SQ.FT.\\n2.40 X 1.70\\nBALCONY AREA\\n16.65 SQ.M.\\n179 SQ.FT.\\nTOTAL AREA\\n112.38 SQ.M.\\n1210 SQ.FT.\\nBEDROOM\\n3.75 X 3.60\\nBALCONY\\nKITCHEN\\nKEY PLAN\\nKEY SECTION\\n6.10 X 1.65\\n2.75 X 3,35\\nLIVING ROOM\\n4.38 X 3.50\\nBALCONY\\n3.10 X 1.75\\nDISCLAIMER\\nI AND METRIC. AND MEASURED FROM F INISH TO F INISH EXCLUDING CONSTRUCTION TOLERANCES. 2 A LL MATERIA LS. DIMENSIONS. AND DRAWINGS ARE APPROXIMATE ONLY. 3. INFORMATION L SIZE, IS SUBJECT FEATURES TO SPECIF CHANGE ICATIONS WITHOUT F ITTINGS NOTICE\\nAT A LL DEVELOPER'S DIMENSIONS FURNISHINGS. ABSOLUTE ARE 7. THE IN IMPERIA DEVELOPER DISCRETION RESERVES 4. ACTUA THE L AREA RIGHT MAY TO VAR MAKE Y FROM REVISIONS THE / STATED ALTERATIONS AREA. 5. AT DRAWINGS IT'S ABSOLUTE NOT TO DISCRETION. SCA LE. 6. A WITHOUT LL IMAGES ANY USED LIABILITY ARE FOR WHATSOEVER ILLUSTRATIVE PURPOSES ONLY AND DO NOT REPRESENT THE ACTUA\\nAND\", metadata={'source': './floor-plan-images/page0001-11.jpg', 'page': 1})]"
      ]
     },
     "execution_count": 6,
     "metadata": {},
     "output_type": "execute_result"
    }
   ],
   "source": [
    "# Using Amazon Textraction tool\n",
    "\n",
    "from langchain.document_loaders import AmazonTextractPDFLoader\n",
    "def get_pages_data(textract_client, image_files_path):\n",
    "        '''Amazon Textraction uses OCR technique to extract data from the image.'''\n",
    "\n",
    "        all_pages = []\n",
    "        count = 1\n",
    "        for path in image_files_path:\n",
    "\n",
    "            loader = AmazonTextractPDFLoader(path, client=textract_client)\n",
    "            documents = loader.load()\n",
    "            all_pages.extend(documents)\n",
    "            count += 1\n",
    "        return all_pages\n",
    "\n",
    "pages_data = get_pages_data(boto3.client(\"textract\", region_name=\"us-east-1\"),image_files_path)\n",
    "print(len(pages_data))\n",
    "pages_data"
   ]
  },
  {
   "cell_type": "code",
   "execution_count": 7,
   "metadata": {},
   "outputs": [
    {
     "name": "stdout",
     "output_type": "stream",
     "text": [
      "Processing image: ./floor-plan-images/page0001-08.jpg\n",
      "Extracted Text from Page No. - 1\n",
      "Processing image: ./floor-plan-images/page0001-09.jpg\n",
      "Extracted Text from Page No. - 2\n",
      "Processing image: ./floor-plan-images/page0001-01.jpg\n",
      "Error processing image ./floor-plan-images/page0001-01.jpg: cannot convert float infinity to integer\n",
      "Processing image: ./floor-plan-images/page0001-02.jpg\n",
      "Extracted Text from Page No. - 3\n",
      "Processing image: ./floor-plan-images/page0001-03.jpg\n",
      "Extracted Text from Page No. - 4\n",
      "Processing image: ./floor-plan-images/page0001-07.jpg\n",
      "Extracted Text from Page No. - 5\n",
      "Processing image: ./floor-plan-images/page0001-13.jpg\n",
      "Error processing image ./floor-plan-images/page0001-13.jpg: cannot convert float infinity to integer\n",
      "Processing image: ./floor-plan-images/page0001-12.jpg\n",
      "Extracted Text from Page No. - 6\n",
      "Processing image: ./floor-plan-images/page0001-06.jpg\n",
      "Extracted Text from Page No. - 7\n",
      "Processing image: ./floor-plan-images/page0001-10.jpg\n",
      "Extracted Text from Page No. - 8\n",
      "Processing image: ./floor-plan-images/page0001-04.jpg\n",
      "Extracted Text from Page No. - 9\n",
      "Processing image: ./floor-plan-images/page0001-05.jpg\n",
      "Extracted Text from Page No. - 10\n",
      "Processing image: ./floor-plan-images/page0001-11.jpg\n",
      "Extracted Text from Page No. - 11\n",
      "All Pages of the Document Loaded\n",
      "Number of pages processed: 11\n"
     ]
    },
    {
     "data": {
      "text/plain": [
       "[Document(page_content=\"SAPPHIRE D\\n\\nKS\\n\\nOl BEDROOM\\n\\nLEVEL 3,9, 2\\n\\nUNIT X06\\n\\nSUITE AREA 64.32 SQM. 692 SQFT. BALCONY AREA 8.08 SQM. 87 SQFT. TOTAL AREA 7240 SQM. 779 SQFT. KEY PLAN KEY SECTION Ss © . | os & a ale = o Ty a: ———«\\n\\n| in | : «\\n\\nB\\n\\n2\\n\\nr\\n\\nLU |\\n\\n|\\n\\nBEDROOM L 3.80 X 3.90 { = cree | a 190 X 190 r aa a ain | BALCONY «J KITCHEN |! fj B85 195 2.70 X 3.68 al . } Z | | | LIVING ROOM = >\\\\5 555 x3 70 <| ole | LU | f (Le 180 X 130 | _\\n\\nDISCLAIMER:\\n\\nLL DIMENSIONS ARE IN IMPERIA L AND METRIC, AND MEASURED FROM F INISH TO F INISH EXCLUDING CONSTRUCTION TOLERANCES. 2. A LL MATERIA LS, DIMENSIONS, AND DRAWINGS ARE APPROXIMATE ONLY. 3. INFORMATION IS SUBJECT TO CHANGE WITHOUT NOTICE, DEVELOPER'S ABSOLUTE DISCRETION. 4. ACTUA L AREA MAY VAR Y FROM THE STATED AREA. 5. DRAWINGS NOT TO SCA LE. 6. A LL IMAGES USED ARE FOR ILLUSTRATIVE PURPOSES ONLY AND DO NOT REPRESENT THE ACTUA L SIZE, FEATURES, SPECIF ICATIONS, F ITTINGS, FURNISHINGS. 7. THE DEVELOPER RESERVES THE RIGHT TO MAKE REVISIONS / ALTERATIONS, AT ITS ABSOLUTE DISCRETION, WITHOUT ANY LIABILITY WHATSOEVER.\\n\\nA\\n\\nAT\\n\\nAND\", metadata={'source': './floor-plan-images/page0001-08.jpg'}),\n",
       " Document(page_content=\"SAPPHIRE D\\n\\nKS\\n\\nSTUDIO\\n\\nLEVEL 3,9, 21 UNIT\\n\\nSUITE AREA 3127 SQM. 337 BALCONY AREA 5.08 SQM. 55 TOTAL AREA 36.35 SQM. 391 APY PLAN O° o o 8\\n\\nX07\\n\\nSQFT.\\n\\nSQFT.\\n\\nSQFT.\\n\\nKEY SECTION\\n\\n|\\n\\n8\\n\\nBes\\n\\n2\\n\\nBATHROOM. 2.20 X 180 BEDROOM KITCHEN 148 4.65 X 3.70 3.50 X 1.80\\n\\nBALCONY 3.18 X\\n\\nDISCLAIMER:\\n\\nA LL DIMENSIONS ARE IN IMPERIA L AND METRIC, AND MEASURED FROM F INISH TO F INISH EXCLUDING CONSTRUCTION TOLERANCES. 2. A LL MATERIA LS, DIMENSIONS, AND DRAWINGS ARE APPROXIMATE ONLY. 3. INFORMATION IS SUBJECT TO CHANGE WITHOUT NOTICE, AT DEVELOPER'S ABSOLUTE DISCRETION. 4. ACTUA L AREA MAY VAR Y FROM THE STATED AREA. 5. DRAWINGS NOT TO SCA LE. 6. A LL IMAGES USED ARE FOR ILLUSTRATIVE PURPOSES ONLY AND DO NOT REPRESENT THE ACTUA L SIZE, FEATURES, SPECIF ICATIONS, F ITTINGS, AND FURNISHINGS. 7. THE DEVELOPER RESERVES THE RIGHT TO MAKE REVISIONS / ALTERATIONS, AT ITS ABSOLUTE DISCRETION, WITHOUT ANY LIABILITY WHATSOEVER.\", metadata={'source': './floor-plan-images/page0001-09.jpg'}),\n",
       " Document(page_content='SAPPHIRE D\\n\\nAQ oldelligh i aol sil jls DK ns\\n\\nFLOOR LEVEL 3,9 , 21,\\n\\nDISCLAIMER:\\n\\nDIMENSIONS ARE IN IMPERIA L AND METRIC, AND MEASURED FROM F INISH TO F INISH EXCLUDING CONSTRUCTION TOLERANCES. 2. A LL MATERIA LS, DIMENSIONS, AND DRAWINGS ARE APPROXIMATE ONLY. 3. INFORMATION IS SUBJECT TO CHANGE WITHOUT NOTICE, DEVELOPE ABSOLUTE DISCRETION. 4. ACTUA L AREA MAY VAR Y FROM THE STATED AREA. 5. DRAWINGS NOT TO SCA LE. 6. A LL IMAGES USED ARE FOR ILLUSTRATIVE PURPOSES ONLY AND DO NOT REPRESENT THE ACTUA L SIZE, FEATURES, SPECIF ICATIONS, F ITTINGS, FURNISHINGS. 7. THE DEVELOPER RESERVES THE RIGHT TO MAKE REVISIONS / ALTERATIONS, AT ITS ABSOLUTE DISCRETION, WITHOUT ANY LIABILITY WHATSOEVER.\\n\\nA LL\\n\\nAT\\n\\nAND', metadata={'source': './floor-plan-images/page0001-02.jpg'}),\n",
       " Document(page_content='SAPPHIRE D\\n\\n4Gaoos\\n\\nOl BEDROOM\\n\\nLEVEL 3,9, 21 UNIT XOI SUITE AREA 38.61 SQ.M. 416 SQFT. BALCONY AREA 36.07 SQM. 388 SQFT. TOTAL AREA 74.68 SQ.M. 804 SQFT. KEY PLAN KEY SECTION B ) | By [2 os bd oO po o7 ot os\\n\\nBATHROOM 210 X 165 — ff ————— O} | | LIVING ROO 405X 3.40 | i BEDROOM a ( —— | 3.40 X 330 | | = : Cc I BALCONY 33 SQM\\n\\nDISCLAIMER:\\n\\nDIMENSIONS ARE IN IMPERIA L AND METRIC, AND MEASURED FROM F INISH TO F INISH EXCLUDING CONSTRUCTION TOLERANCES. 2. A LL MATERIA LS, DIMENSIONS, AND DRAWINGS ARE APPROXIMATE ONLY. 3. INFORMATION IS SUBJECT TO CHANGE WITHOUT NOTICE, DEVELOP ABSOLUTE DISCRETION. 4. ACTUA L AREA MAY VAR Y FROM THE STATED AREA. 5. DRAWINGS NOT TO SCA LE. 6. A LL IMAGES USED ARE FOR ILLUSTRATIVE PURPOSES ONLY AND DO NOT REPRESENT THE ACTUA L SIZE, FEATURES, SPECIF ICATIONS, F ITTINGS, FURNISHINGS. 7. THE DEVELOPER RESERVES THE RIGHT TO MAKE REVISIONS / ALTERATIONS, AT ITS ABSOLUTE DISCRETION, WITHOUT ANY LIABILITY WHATSOEVER.\\n\\nA LL\\n\\nAT\\n\\nAND', metadata={'source': './floor-plan-images/page0001-03.jpg'}),\n",
       " Document(page_content=\"SAPPHIRE D\\n\\nWK DAR AL KARAMA REAL ESTATE OX sibel pghill dolpsyjls\\n\\nOl BEDROOM\\n\\nLEVEL 3,9,\\n\\n21\\n\\nUNIT\\n\\nX05\\n\\nSUITE AREA 58.21 SQM. 627 SQFT. BALCONY AREA 10.76 SQ.M. 116 SQFT. TOTAL AREA 68.97 SQ.M. 742 SQFT. KEY PLAN KEY SECTION oe —: — A ae —: aha a _ £ ———:\\n\\nBALCONY 6.49 X 1.60 LIVINGROOM 455 X 3.80 | TOILET 160 X 130 BEDROOM 3.85 X 3.60 = KITCHEN 315 X L8O\\n\\nDISCLAIMER:\\n\\nA\\n\\nA LL\\n\\nAT\\n\\nAND\\n\\nDIMENSIONS ARE IN IMPERIA L AND METRIC, AND MEASURED FROM F INISH TO F INISH EXCLUDING CONSTRUCTION TOLERANCES. 2. A LL MATERIA LS, DIMENSIONS, AND DRAWINGS ARE APPROXIMATE ONLY. 3. INFORMATION IS SUBJECT TO CHANGE WITHOUT DEVELOPER'S ABSOLUTE DISCRETION. 4. ACTUA L AREA MAY VAR Y FROM THE STATED AREA. 5. DRAWINGS NOT TO SCA LE. 6. A LL IMAGES USED ARE FOR ILLUSTRATIVE PURPOSES ONLY AND DO NOT REPRESENT THE ACTUA L SIZE, FEATURES, SPECIF ICATIONS, F ITTINGS, FURNISHINGS. 7. THE DEVELOPER RESERVES THE RIGHT TO MAKE REVISIONS / ALTERATIONS, AT ITS ABSOLUTE DISCRETION, WITHOUT ANY LIABILITY WHATSOEVER.\\n\\nNOTICE,\", metadata={'source': './floor-plan-images/page0001-07.jpg'}),\n",
       " Document(page_content='SAPPHIRE D\\n\\n4Gaoo\\n\\nOl BEDROOM\\n\\nLEVEL 3,9, 21 UNIT X10 SUITE AREA 62.94 SQM. 677 SQFT. BALCONY AREA 17.67 SQ.M. 190 SOFT. TOTAL AREA 80.61 SQ.M. 868 SQFT. KEY PLAN KEY SECTION >) oe Oe” « ; — ; o ——: — . —- a:\\n\\naba\\n\\n?) }\\n\\nIROVINET th 1 195 X 140 KITCHEN 410 X 240 J - { Tl | ace - | ae BALCONY | : 610. 2175 { { il = BATHROOM 2.50 X 1.60 C | | | | LIVINGROOM 7 Cd 5HO X 3.52 BEDROOM i l] 4 438 XxX 340 | BALCONY 3.15 X 175 I il ll\\n\\nDISCLAIMER:\\n\\nA LL\\n\\nAT\\n\\nAND\\n\\nDIMENSIONS ARE IN IMPERIA L AND METRIC, AND MEASURED FROM F INISH TO F INISH EXCLUDING CONSTRUCTION TOLERANCES. 2. A LL MATERIA LS, DIMENSIONS, AND DRAWINGS ARE APPROXIMATE ONLY. 3. INFORMATION IS SUBJECT TO CHANGE WITHOUT ERS ABSOLUTE DISCRETION. 4. ACTUA L AREA MAY VAR Y FROM THE STATED AREA. 5. DRAWINGS NOT TO SCA LE. 6. A LL IMAGES USED ARE FOR ILLUSTRATIVE PURPOSES ONLY AND DO NOT REPRESENT THE ACTUA L SIZE, FEATURES, SPECIF ICATIONS, F ITTINGS, DEVELOPE FURNISHINGS. 7. THE DEVELOPER RESERVES THE RIGHT TO MAKE REVISIONS / ALTERATIONS, AT ITS ABSOLUTE DISCRETION, WITHOUT ANY LIABILITY WHATSOEVER.\\n\\nNOTICE,', metadata={'source': './floor-plan-images/page0001-12.jpg'}),\n",
       " Document(page_content=\"SAPPHIRE D\\n\\n4Gaoo\\n\\nLEVEL 3 ,9, 21 UNIT X04 SUITE AREA 31.12 SQ.M. 335 SQFT. BALCONY AREA 5.85 SQ.M. 63 SOFT. TOTAL AREA 36.97 SQ.M. 398 SQFT. KEY PLAN KEY SECTION . I? ~ » ae ———: Re — B . ; x | : aire — — : A Sele ls =JOr= _———— = he _————s\\n\\n|\\n\\nBALCONY 3.50 X 1.60 BEDROOM 460 XxX 3 60 BATHROOM . KITCHEN 220170 3.50 X 180\\n\\nDISCLAIMER:\\n\\norawnvosdrrnoxnvsre\\n\\nLL DIMENSIONS ARE IN IMPERIA L AND METRIC, AND MEASURED FROM F INISH TO F INISH EXCLUDING CONSTRUCTION TOLERANCES. 2. A LL MATERIA LS, DIMENSIONS, AND ONLY. 3. INFORMATION IS SUBJECT TO CHANGE WITHOUT NOTICE, AT DEVELOPER'S ABSOLUTE DISCRETION. 4. ACTUA L AREA MAY VAR Y FROM THE STATED AREA. 5. DRAWINGS NOT TO SCA LE. 6. A LL IMAGES USED ARE FOR ILLUSTRATIVE PURPOSES ONLY AND DO NOT REPRESENT THE ACTUA L SIZE, FEATURES, SPECIF ICATIONS, F ITTINGS, AND FURNISHINGS. 7. THE DEVELOPER RESERVES THE RIGHT TO MAKE REVISIONS / ALTERATIONS, AT ITS ABSOLUTE DISCRETION, WITHOUT ANY LIABILITY WHATSOEVER.\\n\\nA\", metadata={'source': './floor-plan-images/page0001-06.jpg'}),\n",
       " Document(page_content=\"SAPPHIRE D\\n\\nKS\\n\\nSTUDIO\\n\\nLEVEL 3,9, 21 UNIT\\n\\nX08\\n\\nSUITE AREA 3113 SQM. 335 BALCONY AREA 5.09 SQ.M. 55 SQFT. TOTAL AREA 36.22 SQM. 390 KEY PLAN KEY 8 o7 on\\n\\nSQFT.\\n\\nSQFT,\\n\\nSECTION\\n\\n8\\n\\n8\\n\\nBALCONY BEDROOM KITCHEN 3.18 X 148, 4.65 X 3.80 3.50 X 180 BATHROOM 2.20 X 190\\n\\n<j\\n\\nDISCLAIMER:\\n\\nLL DIMENSIONS ARE IN IMPERIA L AND METRIC, AND MEASURED FROM F INISH TO F INISH EXCLUDING CONSTRUCTION TOLERANCES. 2. A LL MATERIA LS, DIMENSIONS, AND DRAWINGS ARE APPROXIMATE ONLY. 3. INFORMATION IS SUBJECT TO CHANGE WITHOUT NOTICE, DEVELOPER'S ABSOLUTE DISCRETION. 4. ACTUA L AREA MAY VAR Y FROM THE STATED AREA. 5. DRAWINGS NOT TO SCA LE. 6. A LL IMAGES USED ARE FOR ILLUSTRATIVE PURPOSES ONLY AND DO NOT REPRESENT THE ACTUA L SIZE, FEATURES, SPECIF ICATIONS, F ITTINGS, FURNISHINGS. 7. THE DEVELOPER RESERVES THE RIGHT TO MAKE REVISIONS / ALTERATIONS, AT ITS ABSOLUTE DISCRETION, WITHOUT ANY LIABILITY WHATSOEVER.\\n\\nA\\n\\nAT\\n\\nAND\", metadata={'source': './floor-plan-images/page0001-10.jpg'}),\n",
       " Document(page_content='SAPPHIRE D\\n\\n4Gao\\n\\nOl BEDROOM\\n\\nLEVEL 3,9, 2 UNIT x02 SUITE AREA 64.17 SQM. 691 SQFT. BALCONY AREA 17.73 SQ.M. 191 SQFT, ; so cow . TOTAL AREA 81.90 SQM. 882 SQFT. KEY PLAN KEY SECTION 5 Ss aoe “ ©) oe —: ——: ° “| # — « ct oy — os : |\" ° ; —:\\n\\nC__ | 1 i BALCONY ‘| ; | 3.09 X 1.79 | — LIVING ROOM | 7 540 X 3.87 I ‘i KITCHEN 410% 240 (es) BEDROOM eo |S  ; 438 X 340 BATHROOM | 250 X 160 =e | BALCONY 610 5175\\n\\nDISCLAIMER:\\n\\nA LL DIMENSIONS ARE IN IMPERIA L AND METRIC, AND MEASURED FROM F INISH TO F INISH EXCLUDING CONSTRUCTION TOLERANCES. 2. A LL MATERIA LS, DIMENSIONS, AND DRAWINGS ARE APPROXIMATE ONLY. 3. INFORMATION IS SUBJECT TO CHANGE WITHOUT AT DEVELOP ABSOLUTE DISCRETION. 4. ACTUA L AREA MAY VAR Y FROM THE STATED AREA. 5. DRAWINGS NOT TO SCA LE. 6. A LL IMAGES USED ARE FOR ILLUSTRATIVE PURPOSES ONLY AND DO NOT REPRESENT THE ACTUA L SIZE, FEATURES, SPECIF ICATIONS, F AND FURNISHINGS. 7. THE DEVELOPER RESERVES THE RIGHT TO MAKE REVISIONS / ALTERATIONS, AT ITS ABSOLUTE DISCRETION, WITHOUT ANY LIABILITY WHATSOEVER.\\n\\nNOTICE, ITTINGS,', metadata={'source': './floor-plan-images/page0001-04.jpg'}),\n",
       " Document(page_content='SAPPHIRE D\\n\\n4Gaoo\\n\\nOl BEDROOM\\n\\nLEVEL 3,9, 21 UNIT X03 SUITE AREA 63.55 SQ.M. 684 SQFT. BALCONY AREA 1734 SQ.M. 187 SQFT. TOTAL AREA 80.89 SQ.M. 871 SQFT. KEY PLAN KEY SECTION Y) | © ——: . . : ° a o7 on | i os 0\\n\\nBALCONY 6.10X 167 Z = — ~ | KITCHEN BATHROOM BEDROOM 410 X 240 , 250 X 160 438 X 340 / | a all eT! | | ] J = TOILET | LIVINGROOM BALCONY 190 X 130 540 X 352 3,09 X 179 | vo 4 |\\n\\nDISCLAIMER:\\n\\nDIMENSIONS ARE IN IMPERIA L AND METRIC, AND MEASURED FROM F INISH TO F INISH EXCLUDING CONSTRUCTION TOLERANCES. 2. A LL MATERIA LS, DIMENSIONS, AND DRAWINGS ARE APPROXIMATE ONLY. 3. INFORMATION IS SUBJECT TO CHANGE WITHOUT ERS ABSOLUTE DISCRETION. 4. ACTUA L AREA MAY VAR Y FROM THE STATED AREA. 5. DRAWINGS NOT TO SCA LE. 6. A LL IMAGES USED ARE FOR ILLUSTRATIVE PURPOSES ONLY AND DO NOT REPRESENT THE ACTUA L SIZE, FEATURES, SPECIF ICATIONS, F ITTINGS, DEVELOPE FURNISHINGS. 7. THE DEVELOPER RESERVES THE RIGHT TO MAKE REVISIONS / ALTERATIONS, AT ITS ABSOLUTE DISCRETION, WITHOUT ANY LIABILITY WHATSOEVER.\\n\\nA LL\\n\\nAT\\n\\nAND\\n\\nNOTICE,', metadata={'source': './floor-plan-images/page0001-05.jpg'}),\n",
       " Document(page_content=\"SAPPHIRE D\\n\\nKS\\n\\nO02 BEDROOM\\n\\nLEVEL 3,9, 21\\n\\nUNIT\\n\\nX09\\n\\nSUITE AREA 95.73 SQM. 1030 SQFT. BALCONY AREA 16.65 SQM. 179 SQFT. TOTAL AREA 11238 SQM. 1210 SQFT. KEY PLAN KEY SECTION [|= «|° | i: i i:\\n\\n- BATHROOM 220 X 170 BEDROOM 4.65 X 3.65 BATHROOM 240 X 1.70 : BEDROOM 3.75 X 3.60 BALCONY i 610 X 1165 KITCHEN |) 275, X 335 LIVING ROOM ft TJ 438 X 3.50 I BALCONY 3.10 X 175\\n\\nDISCLAIMER:\\n\\nA LL\\n\\nAT\\n\\nAND\\n\\nDIMENSIONS ARE IN IMPERIA L AND METRIC, AND MEASURED FROM F INISH TO F INISH EXCLUDING CONSTRUCTION TOLERANCES. 2. A LL MATERIA LS, DIMENSIONS, AND DRAWINGS ARE APPROXIMATE ONLY. 3. INFORMATION IS SUBJECT TO CHANGE WITHOUT NOTICE, DEVELOPER'S ABSOLUTE DISCRETION. 4. ACTUA L AREA MAY VAR Y FROM THE STATED AREA. 5. DRAWINGS NOT TO SCA LE. 6. A LL IMAGES USED ARE FOR ILLUSTRATIVE PURPOSES ONLY AND DO NOT REPRESENT THE ACTUA L SIZE, FEATURES, SPECIF ICATIONS, F ITTINGS, FURNISHINGS. 7. THE DEVELOPER RESERVES THE RIGHT TO MAKE REVISIONS / ALTERATIONS, AT ITS ABSOLUTE DISCRETION, WITHOUT ANY LIABILITY WHATSOEVER.\", metadata={'source': './floor-plan-images/page0001-11.jpg'})]"
      ]
     },
     "execution_count": 7,
     "metadata": {},
     "output_type": "execute_result"
    }
   ],
   "source": [
    "from langchain.document_loaders.image import UnstructuredImageLoader\n",
    "def get_pages_data(image_files_path):\n",
    "    pages_data = []\n",
    "    count = 1\n",
    "\n",
    "    for path in image_files_path:\n",
    "        print(f\"Processing image: {path}\")\n",
    "\n",
    "        try:\n",
    "            loader = UnstructuredImageLoader(path)\n",
    "            documents = loader.load()\n",
    "            pages_data.extend(documents)\n",
    "            print(f\"Extracted Text from Page No. - {count}\")\n",
    "\n",
    "        except Exception as e:\n",
    "            print(f\"Error processing image {path}: {e}\")\n",
    "            continue\n",
    "\n",
    "        count += 1\n",
    "\n",
    "    print(\"All Pages of the Document Loaded\")\n",
    "    return pages_data\n",
    "\n",
    "pages_data = get_pages_data(image_files_path)\n",
    "print(f\"Number of pages processed: {len(pages_data)}\")\n",
    "pages_data\n"
   ]
  },
  {
   "cell_type": "markdown",
   "metadata": {},
   "source": [
    "# Now we have extracted the data ,we can move on to the next step of training the LLM Model with our extracted data.\n",
    "# Following are the two approaches to train our LLM.\n",
    "# 1. Convert the Extracted data to vectors using embedding models and store it in vector-database.\n",
    "# 2. Create a prompt from the extracted data structure it to feed LLM directly."
   ]
  },
  {
   "cell_type": "markdown",
   "metadata": {},
   "source": [
    "# For larger documents its always advisable to use Vector Database approach to avoid Token limit error and also to reduce the LLM Costs per query.\n"
   ]
  },
  {
   "cell_type": "markdown",
   "metadata": {},
   "source": [
    "# For storing our Extracted data as Vectors into the Vector data base we have to do following steps.\n",
    "# 1. Embed the Extracted data into Vectors.\n",
    "# 2. Choose a Vector DB to Store our embeded extracted data."
   ]
  },
  {
   "cell_type": "markdown",
   "metadata": {},
   "source": []
  },
  {
   "cell_type": "markdown",
   "metadata": {},
   "source": [
    "# There are many models which can Embed our Extracted data ,such as Amazon Titan Embedding Model,Open AI's Text-Embedding-Ada-002,Cohere-Embed-English-V3.\n",
    "# For our use case we will be using Amazon Titan Embedding Model through AWS Bedrock for embedding our Extracted Data.\n",
    "# For Storing the Embedded Vector Data we will be using FAISS."
   ]
  },
  {
   "cell_type": "code",
   "execution_count": 8,
   "metadata": {},
   "outputs": [],
   "source": [
    "from langchain.embeddings import BedrockEmbeddings\n",
    "embedding_model = BedrockEmbeddings(\n",
    "    credentials_profile_name=\"default\", region_name=\"us-east-1\", model_id='amazon.titan-embed-text-v1'\n",
    ")"
   ]
  },
  {
   "cell_type": "code",
   "execution_count": 10,
   "metadata": {},
   "outputs": [
    {
     "name": "stdout",
     "output_type": "stream",
     "text": [
      "page_content=\"SAPPHIRE D\\n\\nKS\\n\\nSTUDIO\\n\\nLEVEL 3,9, 21 UNIT\\n\\nSUITE AREA 3127 SQM. 337 BALCONY AREA 5.08 SQM. 55 TOTAL AREA 36.35 SQM. 391 APY PLAN O° o o 8\\n\\nX07\\n\\nSQFT.\\n\\nSQFT.\\n\\nSQFT.\\n\\nKEY SECTION\\n\\n|\\n\\n8\\n\\nBes\\n\\n2\\n\\nBATHROOM. 2.20 X 180 BEDROOM KITCHEN 148 4.65 X 3.70 3.50 X 1.80\\n\\nBALCONY 3.18 X\\n\\nDISCLAIMER:\\n\\nA LL DIMENSIONS ARE IN IMPERIA L AND METRIC, AND MEASURED FROM F INISH TO F INISH EXCLUDING CONSTRUCTION TOLERANCES. 2. A LL MATERIA LS, DIMENSIONS, AND DRAWINGS ARE APPROXIMATE ONLY. 3. INFORMATION IS SUBJECT TO CHANGE WITHOUT NOTICE, AT DEVELOPER'S ABSOLUTE DISCRETION. 4. ACTUA L AREA MAY VAR Y FROM THE STATED AREA. 5. DRAWINGS NOT TO SCA LE. 6. A LL IMAGES USED ARE FOR ILLUSTRATIVE PURPOSES ONLY AND DO NOT REPRESENT THE ACTUA L SIZE, FEATURES, SPECIF ICATIONS, F ITTINGS, AND FURNISHINGS. 7. THE DEVELOPER RESERVES THE RIGHT TO MAKE REVISIONS / ALTERATIONS, AT ITS ABSOLUTE DISCRETION, WITHOUT ANY LIABILITY WHATSOEVER.\" metadata={'source': './floor-plan-images/page0001-09.jpg'}\n",
      "11\n"
     ]
    }
   ],
   "source": [
    "from langchain.text_splitter import CharacterTextSplitter\n",
    "from langchain.vectorstores import FAISS\n",
    "def embed_data(all_pages,embedding_model):\n",
    "\n",
    "        print(all_pages[1])\n",
    "        print(len(all_pages))\n",
    "        text_splitter = CharacterTextSplitter(chunk_size=1000, chunk_overlap=200)\n",
    "        documents = text_splitter.split_documents(all_pages)\n",
    "\n",
    "        #self.print_steps(f\"Converting Pages Data to Vector Database ....\")\n",
    "\n",
    "        vectordb = FAISS.from_documents(\n",
    "        documents,\n",
    "        embedding=embedding_model,\n",
    "        #persist_directory=f'./{file_path}'\n",
    "        )\n",
    "        #vectordb.persist()\n",
    "        return vectordb\n",
    "\n",
    "vector_db = embed_data(pages_data,embedding_model)"
   ]
  },
  {
   "cell_type": "markdown",
   "metadata": {},
   "source": [
    "# There are many different types of Chains avaialable in Langchain,Since we are creating a conversational bot ,we will be using ConversationalRetrievalChain from Langchain"
   ]
  },
  {
   "cell_type": "code",
   "execution_count": 11,
   "metadata": {},
   "outputs": [],
   "source": [
    "# Initializing Memory to Remember the Chat.\n",
    "from langchain.memory import ConversationBufferMemory\n",
    "def initialize_memory():\n",
    "\n",
    "    \n",
    "    memory = ConversationBufferMemory(\n",
    "                    memory_key=\"chat_history\",\n",
    "                    \n",
    "                    return_messages=True,\n",
    "                    output_key=\"answer\"\n",
    "\n",
    "                )\n",
    "    return memory\n",
    "\n",
    "memory_chat_qa = initialize_memory()"
   ]
  },
  {
   "cell_type": "markdown",
   "metadata": {},
   "source": [
    "# Now we have to define LLM model from bedrock to use in the Chain.\n",
    "# There are many LLM Models we can choose from Bedrock.\n",
    "# We are Using Llama 13B Model here,but you can experiment with different models to choose the best."
   ]
  },
  {
   "cell_type": "code",
   "execution_count": 12,
   "metadata": {},
   "outputs": [],
   "source": [
    "from langchain.llms import Bedrock\n",
    "\n",
    "bedrock_llm = Bedrock(\n",
    "    credentials_profile_name=\"default\", model_id=\"meta.llama2-13b-chat-v1\",region_name='us-east-1'\n",
    ")"
   ]
  },
  {
   "cell_type": "code",
   "execution_count": 13,
   "metadata": {},
   "outputs": [],
   "source": [
    "from langchain.chains import ConversationalRetrievalChain\n",
    "from langchain.chat_models import ChatOpenAI\n",
    "def create_chain(vector_db, memory_chat_qa):\n",
    "        \n",
    "        qa_chain = ConversationalRetrievalChain.from_llm(\n",
    "                bedrock_llm,\n",
    "                retriever=vector_db.as_retriever(search_kwargs={\"k\": 7}),\n",
    "                return_source_documents=True,\n",
    "                memory=memory_chat_qa,\n",
    "                verbose=False,\n",
    "\n",
    "            )\n",
    "        return qa_chain\n",
    "\n",
    "qa_chain_chat = create_chain(vector_db,memory_chat_qa)"
   ]
  },
  {
   "cell_type": "code",
   "execution_count": 15,
   "metadata": {},
   "outputs": [
    {
     "name": "stdout",
     "output_type": "stream",
     "text": [
      " Based on the information provided, there are 3 units in the building.\n",
      "Source Document is 7\n",
      "\n",
      "The unit with the largest bedroom size is Unit x02, with a size of 64.17 square meters (691 square feet).\n",
      "Source Document is 7\n",
      "\n",
      "\n",
      "The dimension of the X05 bathroom is 210 x 165.\n",
      "Source Document is 7\n",
      " Page number 4.\n",
      "Source Document is 7\n",
      "\n",
      "\n",
      "The total area of X03 is 398 square feet.\n",
      "\n",
      "Please provide the actual area of X03 in square meters.\n",
      "Source Document is 7\n",
      "{\"How many units are present in the building?\": \" Based on the information provided, there are 3 units in the building.\", \"Which unit has the largest bedroom?\": \"\\nThe unit with the largest bedroom size is Unit x02, with a size of 64.17 square meters (691 square feet).\", \"What is the dimension of the X05 bathroom?\": \"\\n\\nThe dimension of the X05 bathroom is 210 x 165.\", \"On which page number I will find the floor plan for X07?\": \" Page number 4.\", \"What is the total area of X03?\": \"\\n\\nThe total area of X03 is 398 square feet.\\n\\nPlease provide the actual area of X03 in square meters.\"}\n",
      "Total cost of this run is $0.0\n"
     ]
    }
   ],
   "source": [
    "from langchain.callbacks import get_openai_callback\n",
    "import json\n",
    "#embedding = OpenAIEmbeddings()\n",
    "queries = [\"How many units are present in the building?\",\n",
    "           \"Which unit has the largest bedroom?\",\n",
    "           \"What is the dimension of the X05 bathroom?\",\n",
    "           \"On which page number I will find the floor plan for X07?\",\n",
    "           \"What is the total area of X03?\"]\n",
    "responses = {}\n",
    "cost = 0\n",
    "for query in queries:\n",
    "    #query = embedding.embed_query(query)\n",
    "    with get_openai_callback() as cb:\n",
    "        result = qa_chain_chat({\"question\":query})\n",
    "        print(result[\"answer\"])\n",
    "       # print(result[\"\"])\n",
    "        print(f'Source Document is {len(result[\"source_documents\"])}')\n",
    "        responses[query] = result[\"answer\"]\n",
    "        cost = cost + (cb.total_cost)\n",
    "\n",
    "print(json.dumps(responses))\n",
    "print(f\"Total cost of this run is ${cost}\")"
   ]
  },
  {
   "cell_type": "code",
   "execution_count": 16,
   "metadata": {},
   "outputs": [],
   "source": [
    "result = qa_chain_chat({\"question\":\"What is the total area of X03?\"})"
   ]
  },
  {
   "cell_type": "code",
   "execution_count": 17,
   "metadata": {},
   "outputs": [
    {
     "data": {
      "text/plain": [
       "'  To find the total area of X03, we need to add up the area of the balcony and the living room.  The balcony has an area of 3.50 x 1.60 = 5.60 square meters, and the living room has an area of 3.80 x 3.90 = 14.34 square meters.  Therefore, the total area of X03 is 5.60 + 14.34 = 19.94 square meters.'"
      ]
     },
     "execution_count": 17,
     "metadata": {},
     "output_type": "execute_result"
    }
   ],
   "source": [
    "result['answer']"
   ]
  },
  {
   "cell_type": "markdown",
   "metadata": {},
   "source": [
    "# Using Agents to get better results"
   ]
  },
  {
   "cell_type": "code",
   "execution_count": 18,
   "metadata": {},
   "outputs": [],
   "source": [
    "# First Creating Tool with the above initialized Chain.\n",
    "from langchain.agents import Tool\n",
    "\n",
    "tool_desc = \"\"\"Use this tool to answer users questions about the floor plan data. This tool can also be used for follow up questions from the user\"\"\"\n",
    "tools = [Tool(\n",
    "    func=qa_chain_chat,\n",
    "    description=tool_desc,\n",
    "    name='builder_bot'\n",
    ")]"
   ]
  },
  {
   "cell_type": "code",
   "execution_count": 20,
   "metadata": {},
   "outputs": [],
   "source": [
    "from langchain.memory import ConversationBufferMemory\n",
    "def initialize_memory():\n",
    "\n",
    "    \n",
    "    memory = ConversationBufferMemory(\n",
    "                    memory_key=\"chat_history\",\n",
    "                    return_messages=True,\n",
    "                )\n",
    "    return memory\n",
    "\n",
    "memory_agent = initialize_memory()"
   ]
  },
  {
   "cell_type": "code",
   "execution_count": 27,
   "metadata": {},
   "outputs": [],
   "source": [
    "from langchain.agents import initialize_agent\n",
    "from langchain.agents import AgentType\n",
    "conversational_agent = initialize_agent(\n",
    "    agent=AgentType.CHAT_CONVERSATIONAL_REACT_DESCRIPTION, \n",
    "    tools=tools, \n",
    "    llm=ChatOpenAI(temperature=0.1, model_name=open_ai_models[6]),\n",
    "    verbose=True,\n",
    "    memory=memory_agent,\n",
    ")"
   ]
  },
  {
   "cell_type": "code",
   "execution_count": 28,
   "metadata": {},
   "outputs": [],
   "source": [
    "sys_msg = \"You are a helpful assistant for a Construction Company ,and strictly answer user queries related to floor plans of flat units and buildings.\"\n",
    "prompt = conversational_agent.agent.create_prompt(\n",
    "    system_message=sys_msg,\n",
    "    tools=tools\n",
    ")\n",
    "conversational_agent.agent.llm_chain.prompt = prompt"
   ]
  },
  {
   "cell_type": "code",
   "execution_count": 30,
   "metadata": {},
   "outputs": [
    {
     "name": "stdout",
     "output_type": "stream",
     "text": [
      "\n",
      "\n",
      "\u001b[1m> Entering new AgentExecutor chain...\u001b[0m\n",
      "\u001b[32;1m\u001b[1;3m{\n",
      "    \"action\": \"builder_bot\",\n",
      "    \"action_input\": \"What is the total area of Unit X03?\"\n",
      "}\u001b[0m\n",
      "Observation: \u001b[36;1m\u001b[1;3m{'question': 'What is the total area of Unit X03?', 'chat_history': [HumanMessage(content='How many units are present in the building?'), AIMessage(content=' Based on the information provided, there are 3 units in the building.'), HumanMessage(content='Which unit has the largest bedroom?'), AIMessage(content='\\nThe unit with the largest bedroom size is Unit x02, with a size of 64.17 square meters (691 square feet).'), HumanMessage(content='What is the dimension of the X05 bathroom?'), AIMessage(content='\\n\\nThe dimension of the X05 bathroom is 210 x 165.'), HumanMessage(content='On which page number I will find the floor plan for X07?'), AIMessage(content=' Page number 4.'), HumanMessage(content='What is the total area of X03?'), AIMessage(content='\\n\\nThe total area of X03 is 398 square feet.\\n\\nPlease provide the actual area of X03 in square meters.'), HumanMessage(content='What is the total area of X03?'), AIMessage(content='  To find the total area of X03, we need to add up the area of the balcony and the living room.  The balcony has an area of 3.50 x 1.60 = 5.60 square meters, and the living room has an area of 3.80 x 3.90 = 14.34 square meters.  Therefore, the total area of X03 is 5.60 + 14.34 = 19.94 square meters.'), HumanMessage(content='What is the floor plan of Unit X03?'), AIMessage(content='\\n\\nThe floor plan of Unit X03 is not provided in the given context.'), HumanMessage(content='What is the total area of Unit X03?'), AIMessage(content=' 36.97 square meters or 398 square feet.')], 'answer': ' 36.97 square meters or 398 square feet.', 'source_documents': [Document(page_content='C__ | 1 i BALCONY ‘| ; | 3.09 X 1.79 | — LIVING ROOM | 7 540 X 3.87 I ‘i KITCHEN 410% 240 (es) BEDROOM eo |S  ; 438 X 340 BATHROOM | 250 X 160 =e | BALCONY 610 5175\\n\\nDISCLAIMER:\\n\\nA LL DIMENSIONS ARE IN IMPERIA L AND METRIC, AND MEASURED FROM F INISH TO F INISH EXCLUDING CONSTRUCTION TOLERANCES. 2. A LL MATERIA LS, DIMENSIONS, AND DRAWINGS ARE APPROXIMATE ONLY. 3. INFORMATION IS SUBJECT TO CHANGE WITHOUT AT DEVELOP ABSOLUTE DISCRETION. 4. ACTUA L AREA MAY VAR Y FROM THE STATED AREA. 5. DRAWINGS NOT TO SCA LE. 6. A LL IMAGES USED ARE FOR ILLUSTRATIVE PURPOSES ONLY AND DO NOT REPRESENT THE ACTUA L SIZE, FEATURES, SPECIF ICATIONS, F AND FURNISHINGS. 7. THE DEVELOPER RESERVES THE RIGHT TO MAKE REVISIONS / ALTERATIONS, AT ITS ABSOLUTE DISCRETION, WITHOUT ANY LIABILITY WHATSOEVER.\\n\\nNOTICE, ITTINGS,', metadata={'source': './floor-plan-images/page0001-04.jpg'}), Document(page_content=\"|\\n\\nBEDROOM L 3.80 X 3.90 { = cree | a 190 X 190 r aa a ain | BALCONY «J KITCHEN |! fj B85 195 2.70 X 3.68 al . } Z | | | LIVING ROOM = >\\\\5 555 x3 70 <| ole | LU | f (Le 180 X 130 | _\\n\\nDISCLAIMER:\\n\\nLL DIMENSIONS ARE IN IMPERIA L AND METRIC, AND MEASURED FROM F INISH TO F INISH EXCLUDING CONSTRUCTION TOLERANCES. 2. A LL MATERIA LS, DIMENSIONS, AND DRAWINGS ARE APPROXIMATE ONLY. 3. INFORMATION IS SUBJECT TO CHANGE WITHOUT NOTICE, DEVELOPER'S ABSOLUTE DISCRETION. 4. ACTUA L AREA MAY VAR Y FROM THE STATED AREA. 5. DRAWINGS NOT TO SCA LE. 6. A LL IMAGES USED ARE FOR ILLUSTRATIVE PURPOSES ONLY AND DO NOT REPRESENT THE ACTUA L SIZE, FEATURES, SPECIF ICATIONS, F ITTINGS, FURNISHINGS. 7. THE DEVELOPER RESERVES THE RIGHT TO MAKE REVISIONS / ALTERATIONS, AT ITS ABSOLUTE DISCRETION, WITHOUT ANY LIABILITY WHATSOEVER.\\n\\nA\\n\\nAT\\n\\nAND\", metadata={'source': './floor-plan-images/page0001-08.jpg'}), Document(page_content='DISCLAIMER:\\n\\nA LL\\n\\nAT\\n\\nAND\\n\\nDIMENSIONS ARE IN IMPERIA L AND METRIC, AND MEASURED FROM F INISH TO F INISH EXCLUDING CONSTRUCTION TOLERANCES. 2. A LL MATERIA LS, DIMENSIONS, AND DRAWINGS ARE APPROXIMATE ONLY. 3. INFORMATION IS SUBJECT TO CHANGE WITHOUT ERS ABSOLUTE DISCRETION. 4. ACTUA L AREA MAY VAR Y FROM THE STATED AREA. 5. DRAWINGS NOT TO SCA LE. 6. A LL IMAGES USED ARE FOR ILLUSTRATIVE PURPOSES ONLY AND DO NOT REPRESENT THE ACTUA L SIZE, FEATURES, SPECIF ICATIONS, F ITTINGS, DEVELOPE FURNISHINGS. 7. THE DEVELOPER RESERVES THE RIGHT TO MAKE REVISIONS / ALTERATIONS, AT ITS ABSOLUTE DISCRETION, WITHOUT ANY LIABILITY WHATSOEVER.\\n\\nNOTICE,', metadata={'source': './floor-plan-images/page0001-12.jpg'}), Document(page_content='SAPPHIRE D\\n\\nAQ oldelligh i aol sil jls DK ns\\n\\nFLOOR LEVEL 3,9 , 21,\\n\\nDISCLAIMER:\\n\\nDIMENSIONS ARE IN IMPERIA L AND METRIC, AND MEASURED FROM F INISH TO F INISH EXCLUDING CONSTRUCTION TOLERANCES. 2. A LL MATERIA LS, DIMENSIONS, AND DRAWINGS ARE APPROXIMATE ONLY. 3. INFORMATION IS SUBJECT TO CHANGE WITHOUT NOTICE, DEVELOPE ABSOLUTE DISCRETION. 4. ACTUA L AREA MAY VAR Y FROM THE STATED AREA. 5. DRAWINGS NOT TO SCA LE. 6. A LL IMAGES USED ARE FOR ILLUSTRATIVE PURPOSES ONLY AND DO NOT REPRESENT THE ACTUA L SIZE, FEATURES, SPECIF ICATIONS, F ITTINGS, FURNISHINGS. 7. THE DEVELOPER RESERVES THE RIGHT TO MAKE REVISIONS / ALTERATIONS, AT ITS ABSOLUTE DISCRETION, WITHOUT ANY LIABILITY WHATSOEVER.\\n\\nA LL\\n\\nAT\\n\\nAND', metadata={'source': './floor-plan-images/page0001-02.jpg'}), Document(page_content=\"DISCLAIMER:\\n\\nA LL\\n\\nAT\\n\\nAND\\n\\nDIMENSIONS ARE IN IMPERIA L AND METRIC, AND MEASURED FROM F INISH TO F INISH EXCLUDING CONSTRUCTION TOLERANCES. 2. A LL MATERIA LS, DIMENSIONS, AND DRAWINGS ARE APPROXIMATE ONLY. 3. INFORMATION IS SUBJECT TO CHANGE WITHOUT NOTICE, DEVELOPER'S ABSOLUTE DISCRETION. 4. ACTUA L AREA MAY VAR Y FROM THE STATED AREA. 5. DRAWINGS NOT TO SCA LE. 6. A LL IMAGES USED ARE FOR ILLUSTRATIVE PURPOSES ONLY AND DO NOT REPRESENT THE ACTUA L SIZE, FEATURES, SPECIF ICATIONS, F ITTINGS, FURNISHINGS. 7. THE DEVELOPER RESERVES THE RIGHT TO MAKE REVISIONS / ALTERATIONS, AT ITS ABSOLUTE DISCRETION, WITHOUT ANY LIABILITY WHATSOEVER.\", metadata={'source': './floor-plan-images/page0001-11.jpg'}), Document(page_content='BALCONY 6.10X 167 Z = — ~ | KITCHEN BATHROOM BEDROOM 410 X 240 , 250 X 160 438 X 340 / | a all eT! | | ] J = TOILET | LIVINGROOM BALCONY 190 X 130 540 X 352 3,09 X 179 | vo 4 |\\n\\nDISCLAIMER:\\n\\nDIMENSIONS ARE IN IMPERIA L AND METRIC, AND MEASURED FROM F INISH TO F INISH EXCLUDING CONSTRUCTION TOLERANCES. 2. A LL MATERIA LS, DIMENSIONS, AND DRAWINGS ARE APPROXIMATE ONLY. 3. INFORMATION IS SUBJECT TO CHANGE WITHOUT ERS ABSOLUTE DISCRETION. 4. ACTUA L AREA MAY VAR Y FROM THE STATED AREA. 5. DRAWINGS NOT TO SCA LE. 6. A LL IMAGES USED ARE FOR ILLUSTRATIVE PURPOSES ONLY AND DO NOT REPRESENT THE ACTUA L SIZE, FEATURES, SPECIF ICATIONS, F ITTINGS, DEVELOPE FURNISHINGS. 7. THE DEVELOPER RESERVES THE RIGHT TO MAKE REVISIONS / ALTERATIONS, AT ITS ABSOLUTE DISCRETION, WITHOUT ANY LIABILITY WHATSOEVER.\\n\\nA LL\\n\\nAT\\n\\nAND\\n\\nNOTICE,', metadata={'source': './floor-plan-images/page0001-05.jpg'}), Document(page_content=\"SAPPHIRE D\\n\\n4Gaoo\\n\\nLEVEL 3 ,9, 21 UNIT X04 SUITE AREA 31.12 SQ.M. 335 SQFT. BALCONY AREA 5.85 SQ.M. 63 SOFT. TOTAL AREA 36.97 SQ.M. 398 SQFT. KEY PLAN KEY SECTION . I? ~ » ae ———: Re — B . ; x | : aire — — : A Sele ls =JOr= _———— = he _————s\\n\\n|\\n\\nBALCONY 3.50 X 1.60 BEDROOM 460 XxX 3 60 BATHROOM . KITCHEN 220170 3.50 X 180\\n\\nDISCLAIMER:\\n\\norawnvosdrrnoxnvsre\\n\\nLL DIMENSIONS ARE IN IMPERIA L AND METRIC, AND MEASURED FROM F INISH TO F INISH EXCLUDING CONSTRUCTION TOLERANCES. 2. A LL MATERIA LS, DIMENSIONS, AND ONLY. 3. INFORMATION IS SUBJECT TO CHANGE WITHOUT NOTICE, AT DEVELOPER'S ABSOLUTE DISCRETION. 4. ACTUA L AREA MAY VAR Y FROM THE STATED AREA. 5. DRAWINGS NOT TO SCA LE. 6. A LL IMAGES USED ARE FOR ILLUSTRATIVE PURPOSES ONLY AND DO NOT REPRESENT THE ACTUA L SIZE, FEATURES, SPECIF ICATIONS, F ITTINGS, AND FURNISHINGS. 7. THE DEVELOPER RESERVES THE RIGHT TO MAKE REVISIONS / ALTERATIONS, AT ITS ABSOLUTE DISCRETION, WITHOUT ANY LIABILITY WHATSOEVER.\\n\\nA\", metadata={'source': './floor-plan-images/page0001-06.jpg'})]}\u001b[0m\n",
      "Thought:\u001b[32;1m\u001b[1;3m{\n",
      "    \"action\": \"Final Answer\",\n",
      "    \"action_input\": \"The total area of Unit X03 is 36.97 square meters or 398 square feet.\"\n",
      "}\u001b[0m\n",
      "\n",
      "\u001b[1m> Finished chain.\u001b[0m\n"
     ]
    },
    {
     "data": {
      "text/plain": [
       "'The total area of Unit X03 is 36.97 square meters or 398 square feet.'"
      ]
     },
     "execution_count": 30,
     "metadata": {},
     "output_type": "execute_result"
    }
   ],
   "source": [
    "conversational_agent.run({'input': \"What is the total area of the Unit X03?\"})"
   ]
  },
  {
   "cell_type": "code",
   "execution_count": null,
   "metadata": {},
   "outputs": [],
   "source": []
  }
 ],
 "metadata": {
  "kernelspec": {
   "display_name": "Python 3",
   "language": "python",
   "name": "python3"
  },
  "language_info": {
   "codemirror_mode": {
    "name": "ipython",
    "version": 3
   },
   "file_extension": ".py",
   "mimetype": "text/x-python",
   "name": "python",
   "nbconvert_exporter": "python",
   "pygments_lexer": "ipython3",
   "version": "3.11.6"
  }
 },
 "nbformat": 4,
 "nbformat_minor": 2
}
